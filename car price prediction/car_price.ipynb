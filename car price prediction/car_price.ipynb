{
 "cells": [
  {
   "cell_type": "code",
   "execution_count": 1,
   "metadata": {},
   "outputs": [],
   "source": [
    "import numpy as np\n",
    "import pandas as pd\n",
    "import matplotlib.pyplot as plt\n",
    "import seaborn as sns "
   ]
  },
  {
   "cell_type": "code",
   "execution_count": 2,
   "metadata": {},
   "outputs": [],
   "source": [
    "train = pd.read_csv('train-data.csv')"
   ]
  },
  {
   "cell_type": "code",
   "execution_count": 3,
   "metadata": {},
   "outputs": [],
   "source": [
    "test = pd.read_csv('test-data.csv')"
   ]
  },
  {
   "cell_type": "code",
   "execution_count": 4,
   "metadata": {},
   "outputs": [],
   "source": [
    "data = train.append(test,sort = False)"
   ]
  },
  {
   "cell_type": "code",
   "execution_count": 5,
   "metadata": {},
   "outputs": [
    {
     "data": {
      "text/html": [
       "<div>\n",
       "<style scoped>\n",
       "    .dataframe tbody tr th:only-of-type {\n",
       "        vertical-align: middle;\n",
       "    }\n",
       "\n",
       "    .dataframe tbody tr th {\n",
       "        vertical-align: top;\n",
       "    }\n",
       "\n",
       "    .dataframe thead th {\n",
       "        text-align: right;\n",
       "    }\n",
       "</style>\n",
       "<table border=\"1\" class=\"dataframe\">\n",
       "  <thead>\n",
       "    <tr style=\"text-align: right;\">\n",
       "      <th></th>\n",
       "      <th>Unnamed: 0</th>\n",
       "      <th>Name</th>\n",
       "      <th>Location</th>\n",
       "      <th>Year</th>\n",
       "      <th>Kilometers_Driven</th>\n",
       "      <th>Fuel_Type</th>\n",
       "      <th>Transmission</th>\n",
       "      <th>Owner_Type</th>\n",
       "      <th>Mileage</th>\n",
       "      <th>Engine</th>\n",
       "      <th>Power</th>\n",
       "      <th>Seats</th>\n",
       "      <th>New_Price</th>\n",
       "      <th>Price</th>\n",
       "    </tr>\n",
       "  </thead>\n",
       "  <tbody>\n",
       "    <tr>\n",
       "      <th>0</th>\n",
       "      <td>0</td>\n",
       "      <td>Maruti Wagon R LXI CNG</td>\n",
       "      <td>Mumbai</td>\n",
       "      <td>2010</td>\n",
       "      <td>72000</td>\n",
       "      <td>CNG</td>\n",
       "      <td>Manual</td>\n",
       "      <td>First</td>\n",
       "      <td>26.6 km/kg</td>\n",
       "      <td>998 CC</td>\n",
       "      <td>58.16 bhp</td>\n",
       "      <td>5.0</td>\n",
       "      <td>NaN</td>\n",
       "      <td>1.75</td>\n",
       "    </tr>\n",
       "    <tr>\n",
       "      <th>1</th>\n",
       "      <td>1</td>\n",
       "      <td>Hyundai Creta 1.6 CRDi SX Option</td>\n",
       "      <td>Pune</td>\n",
       "      <td>2015</td>\n",
       "      <td>41000</td>\n",
       "      <td>Diesel</td>\n",
       "      <td>Manual</td>\n",
       "      <td>First</td>\n",
       "      <td>19.67 kmpl</td>\n",
       "      <td>1582 CC</td>\n",
       "      <td>126.2 bhp</td>\n",
       "      <td>5.0</td>\n",
       "      <td>NaN</td>\n",
       "      <td>12.50</td>\n",
       "    </tr>\n",
       "    <tr>\n",
       "      <th>2</th>\n",
       "      <td>2</td>\n",
       "      <td>Honda Jazz V</td>\n",
       "      <td>Chennai</td>\n",
       "      <td>2011</td>\n",
       "      <td>46000</td>\n",
       "      <td>Petrol</td>\n",
       "      <td>Manual</td>\n",
       "      <td>First</td>\n",
       "      <td>18.2 kmpl</td>\n",
       "      <td>1199 CC</td>\n",
       "      <td>88.7 bhp</td>\n",
       "      <td>5.0</td>\n",
       "      <td>8.61 Lakh</td>\n",
       "      <td>4.50</td>\n",
       "    </tr>\n",
       "    <tr>\n",
       "      <th>3</th>\n",
       "      <td>3</td>\n",
       "      <td>Maruti Ertiga VDI</td>\n",
       "      <td>Chennai</td>\n",
       "      <td>2012</td>\n",
       "      <td>87000</td>\n",
       "      <td>Diesel</td>\n",
       "      <td>Manual</td>\n",
       "      <td>First</td>\n",
       "      <td>20.77 kmpl</td>\n",
       "      <td>1248 CC</td>\n",
       "      <td>88.76 bhp</td>\n",
       "      <td>7.0</td>\n",
       "      <td>NaN</td>\n",
       "      <td>6.00</td>\n",
       "    </tr>\n",
       "    <tr>\n",
       "      <th>4</th>\n",
       "      <td>4</td>\n",
       "      <td>Audi A4 New 2.0 TDI Multitronic</td>\n",
       "      <td>Coimbatore</td>\n",
       "      <td>2013</td>\n",
       "      <td>40670</td>\n",
       "      <td>Diesel</td>\n",
       "      <td>Automatic</td>\n",
       "      <td>Second</td>\n",
       "      <td>15.2 kmpl</td>\n",
       "      <td>1968 CC</td>\n",
       "      <td>140.8 bhp</td>\n",
       "      <td>5.0</td>\n",
       "      <td>NaN</td>\n",
       "      <td>17.74</td>\n",
       "    </tr>\n",
       "  </tbody>\n",
       "</table>\n",
       "</div>"
      ],
      "text/plain": [
       "   Unnamed: 0                              Name    Location  Year  \\\n",
       "0           0            Maruti Wagon R LXI CNG      Mumbai  2010   \n",
       "1           1  Hyundai Creta 1.6 CRDi SX Option        Pune  2015   \n",
       "2           2                      Honda Jazz V     Chennai  2011   \n",
       "3           3                 Maruti Ertiga VDI     Chennai  2012   \n",
       "4           4   Audi A4 New 2.0 TDI Multitronic  Coimbatore  2013   \n",
       "\n",
       "   Kilometers_Driven Fuel_Type Transmission Owner_Type     Mileage   Engine  \\\n",
       "0              72000       CNG       Manual      First  26.6 km/kg   998 CC   \n",
       "1              41000    Diesel       Manual      First  19.67 kmpl  1582 CC   \n",
       "2              46000    Petrol       Manual      First   18.2 kmpl  1199 CC   \n",
       "3              87000    Diesel       Manual      First  20.77 kmpl  1248 CC   \n",
       "4              40670    Diesel    Automatic     Second   15.2 kmpl  1968 CC   \n",
       "\n",
       "       Power  Seats  New_Price  Price  \n",
       "0  58.16 bhp    5.0        NaN   1.75  \n",
       "1  126.2 bhp    5.0        NaN  12.50  \n",
       "2   88.7 bhp    5.0  8.61 Lakh   4.50  \n",
       "3  88.76 bhp    7.0        NaN   6.00  \n",
       "4  140.8 bhp    5.0        NaN  17.74  "
      ]
     },
     "execution_count": 5,
     "metadata": {},
     "output_type": "execute_result"
    }
   ],
   "source": [
    "data.head()"
   ]
  },
  {
   "cell_type": "code",
   "execution_count": 6,
   "metadata": {},
   "outputs": [
    {
     "data": {
      "text/plain": [
       "(7253, 14)"
      ]
     },
     "execution_count": 6,
     "metadata": {},
     "output_type": "execute_result"
    }
   ],
   "source": [
    "data.shape"
   ]
  },
  {
   "cell_type": "code",
   "execution_count": 7,
   "metadata": {},
   "outputs": [
    {
     "data": {
      "text/plain": [
       "Index(['Unnamed: 0', 'Name', 'Location', 'Year', 'Kilometers_Driven',\n",
       "       'Fuel_Type', 'Transmission', 'Owner_Type', 'Mileage', 'Engine', 'Power',\n",
       "       'Seats', 'New_Price', 'Price'],\n",
       "      dtype='object')"
      ]
     },
     "execution_count": 7,
     "metadata": {},
     "output_type": "execute_result"
    }
   ],
   "source": [
    "data.columns"
   ]
  },
  {
   "cell_type": "code",
   "execution_count": 8,
   "metadata": {},
   "outputs": [],
   "source": [
    "data.drop('Unnamed: 0', axis = 1, inplace = True)"
   ]
  },
  {
   "cell_type": "code",
   "execution_count": 9,
   "metadata": {},
   "outputs": [
    {
     "data": {
      "text/plain": [
       "Index(['Name', 'Location', 'Year', 'Kilometers_Driven', 'Fuel_Type',\n",
       "       'Transmission', 'Owner_Type', 'Mileage', 'Engine', 'Power', 'Seats',\n",
       "       'New_Price', 'Price'],\n",
       "      dtype='object')"
      ]
     },
     "execution_count": 9,
     "metadata": {},
     "output_type": "execute_result"
    }
   ],
   "source": [
    "data.columns"
   ]
  },
  {
   "cell_type": "code",
   "execution_count": 10,
   "metadata": {},
   "outputs": [
    {
     "name": "stdout",
     "output_type": "stream",
     "text": [
      "<class 'pandas.core.frame.DataFrame'>\n",
      "Int64Index: 7253 entries, 0 to 1233\n",
      "Data columns (total 13 columns):\n",
      " #   Column             Non-Null Count  Dtype  \n",
      "---  ------             --------------  -----  \n",
      " 0   Name               7253 non-null   object \n",
      " 1   Location           7253 non-null   object \n",
      " 2   Year               7253 non-null   int64  \n",
      " 3   Kilometers_Driven  7253 non-null   int64  \n",
      " 4   Fuel_Type          7253 non-null   object \n",
      " 5   Transmission       7253 non-null   object \n",
      " 6   Owner_Type         7253 non-null   object \n",
      " 7   Mileage            7251 non-null   object \n",
      " 8   Engine             7207 non-null   object \n",
      " 9   Power              7207 non-null   object \n",
      " 10  Seats              7200 non-null   float64\n",
      " 11  New_Price          1006 non-null   object \n",
      " 12  Price              6019 non-null   float64\n",
      "dtypes: float64(2), int64(2), object(9)\n",
      "memory usage: 793.3+ KB\n"
     ]
    }
   ],
   "source": [
    "data.info()"
   ]
  },
  {
   "cell_type": "code",
   "execution_count": 11,
   "metadata": {},
   "outputs": [
    {
     "data": {
      "text/plain": [
       "Name                  object\n",
       "Location              object\n",
       "Year                   int64\n",
       "Kilometers_Driven      int64\n",
       "Fuel_Type             object\n",
       "Transmission          object\n",
       "Owner_Type            object\n",
       "Mileage               object\n",
       "Engine                object\n",
       "Power                 object\n",
       "Seats                float64\n",
       "New_Price             object\n",
       "Price                float64\n",
       "dtype: object"
      ]
     },
     "execution_count": 11,
     "metadata": {},
     "output_type": "execute_result"
    }
   ],
   "source": [
    "data.dtypes"
   ]
  },
  {
   "cell_type": "code",
   "execution_count": 12,
   "metadata": {},
   "outputs": [],
   "source": [
    "columns = data.columns"
   ]
  },
  {
   "cell_type": "code",
   "execution_count": 13,
   "metadata": {},
   "outputs": [
    {
     "name": "stdout",
     "output_type": "stream",
     "text": [
      "Name unique values are ['Maruti Wagon R LXI CNG' 'Hyundai Creta 1.6 CRDi SX Option'\n",
      " 'Honda Jazz V' ... 'Ford EcoSport 1.5 Petrol Ambiente'\n",
      " 'Jeep Compass 1.4 Sport' 'Hyundai Elite i20 Magna Plus']\n",
      "Location unique values are ['Mumbai' 'Pune' 'Chennai' 'Coimbatore' 'Hyderabad' 'Jaipur' 'Kochi'\n",
      " 'Kolkata' 'Delhi' 'Bangalore' 'Ahmedabad']\n",
      "Fuel_Type unique values are ['CNG' 'Diesel' 'Petrol' 'LPG' 'Electric']\n",
      "Transmission unique values are ['Manual' 'Automatic']\n",
      "Owner_Type unique values are ['First' 'Second' 'Fourth & Above' 'Third']\n",
      "Mileage unique values are ['26.6 km/kg' '19.67 kmpl' '18.2 kmpl' '20.77 kmpl' '15.2 kmpl'\n",
      " '21.1 km/kg' '23.08 kmpl' '11.36 kmpl' '20.54 kmpl' '22.3 kmpl'\n",
      " '21.56 kmpl' '16.8 kmpl' '25.2 kmpl' '12.7 kmpl' '0.0 kmpl' '13.5 kmpl'\n",
      " '25.8 kmpl' '28.4 kmpl' '20.45 kmpl' '14.84 kmpl' '22.69 kmpl'\n",
      " '23.65 kmpl' '13.53 kmpl' '18.5 kmpl' '14.4 kmpl' '20.92 kmpl'\n",
      " '17.5 kmpl' '12.8 kmpl' '19.01 kmpl' '14.53 kmpl' '11.18 kmpl'\n",
      " '12.4 kmpl' '16.09 kmpl' '14.0 kmpl' '24.3 kmpl' '18.15 kmpl'\n",
      " '11.74 kmpl' '22.07 kmpl' '19.7 kmpl' '25.4 kmpl' '25.32 kmpl'\n",
      " '14.62 kmpl' '14.28 kmpl' '14.9 kmpl' '11.25 kmpl' '24.4 kmpl'\n",
      " '16.55 kmpl' '17.11 kmpl' '22.9 kmpl' '17.8 kmpl' '18.9 kmpl'\n",
      " '15.04 kmpl' '25.17 kmpl' '20.36 kmpl' '13.29 kmpl' '13.68 kmpl'\n",
      " '20.0 kmpl' '15.8 kmpl' '25.0 kmpl' '16.4 kmpl' '24.52 kmpl' '22.1 kmpl'\n",
      " '8.5 kmpl' '15.1 kmpl' '16.95 kmpl' '19.64 kmpl' '16.5 kmpl' '18.53 kmpl'\n",
      " '17.57 kmpl' '18.0 kmpl' '23.2 kmpl' '16.73 kmpl' '17.0 kmpl' '13.0 kmpl'\n",
      " '17.68 kmpl' '22.7 kmpl' '16.2 kmpl' '15.26 kmpl' '23.0 kmpl'\n",
      " '19.83 kmpl' '14.94 kmpl' '17.71 kmpl' '14.74 kmpl' '16.0 kmpl'\n",
      " '22.32 kmpl' '12.99 kmpl' '23.3 kmpl' '19.15 kmpl' '10.8 kmpl'\n",
      " '15.0 kmpl' '22.0 kmpl' '21.9 kmpl' '12.05 kmpl' '11.7 kmpl' '21.21 kmpl'\n",
      " '20.73 kmpl' '21.1 kmpl' '24.07 kmpl' '19.0 kmpl' '20.58 kmpl'\n",
      " '19.27 kmpl' '11.5 kmpl' '18.6 kmpl' '21.14 kmpl' '11.05 kmpl'\n",
      " '21.76 kmpl' '7.81 kmpl' '21.66 kmpl' '17.2 kmpl' '20.63 kmpl'\n",
      " '19.4 kmpl' '14.8 kmpl' '26.0 kmpl' '20.4 kmpl' '21.5 kmpl' '15.3 kmpl'\n",
      " '17.9 kmpl' '16.6 kmpl' '22.54 kmpl' '25.44 kmpl' '13.7 kmpl'\n",
      " '22.48 kmpl' '12.9 kmpl' '19.98 kmpl' '21.4 kmpl' '19.81 kmpl'\n",
      " '15.4 kmpl' '25.47 kmpl' '19.87 kmpl' '17.45 kmpl' '14.7 kmpl'\n",
      " '15.64 kmpl' '15.73 kmpl' '23.59 kmpl' '16.1 kmpl' '27.4 kmpl'\n",
      " '20.46 kmpl' '15.29 kmpl' '20.51 kmpl' '11.8 kmpl' '14.3 kmpl'\n",
      " '14.67 kmpl' '17.19 kmpl' '21.03 kmpl' '22.5 kmpl' '16.82 kmpl'\n",
      " '11.72 kmpl' '17.4 kmpl' '17.05 kmpl' '24.0 kmpl' '28.09 kmpl'\n",
      " '20.5 kmpl' '13.1 kmpl' '19.91 kmpl' '18.7 kmpl' '16.38 kmpl'\n",
      " '11.57 kmpl' '17.3 kmpl' '22.95 kmpl' '18.88 kmpl' '23.4 kmpl'\n",
      " '22.74 kmpl' '12.07 kmpl' '17.1 kmpl' '18.48 kmpl' '16.47 kmpl'\n",
      " '23.1 kmpl' '14.07 kmpl' '16.02 kmpl' '19.3 kmpl' '17.7 kmpl' '9.52 kmpl'\n",
      " '14.75 kmpl' '26.3 km/kg' '11.3 kmpl' '21.12 kmpl' '21.02 kmpl'\n",
      " '14.45 kmpl' '19.33 kmpl' '13.8 kmpl' '24.7 kmpl' '11.0 kmpl'\n",
      " '11.07 kmpl' '21.43 kmpl' '14.21 kmpl' '18.86 kmpl' '16.07 kmpl'\n",
      " '13.49 kmpl' '20.38 kmpl' '12.0 kmpl' '17.01 kmpl' '13.2 kmpl'\n",
      " '20.37 kmpl' '15.1 km/kg' '15.96 kmpl' '14.16 kmpl' '13.17 kmpl'\n",
      " '27.62 kmpl' '25.1 kmpl' '15.17 kmpl' '11.33 kmpl' '17.92 kmpl'\n",
      " '12.55 kmpl' '12.6 kmpl' '17.72 kmpl' '18.16 kmpl' '15.68 kmpl'\n",
      " '15.5 kmpl' '12.1 kmpl' '14.83 kmpl' '17.6 kmpl' '14.6 kmpl' '14.66 kmpl'\n",
      " '10.93 kmpl' '20.68 kmpl' '9.9 kmpl' '21.13 kmpl' '20.14 kmpl'\n",
      " '19.2 kmpl' '27.3 kmpl' '16.36 kmpl' '26.59 kmpl' '12.5 kmpl' '13.6 kmpl'\n",
      " '15.06 kmpl' '10.13 kmpl' '17.21 kmpl' '15.97 kmpl' '10.5 kmpl'\n",
      " '14.69 kmpl' '23.9 kmpl' '19.1 kmpl' '21.27 kmpl' '15.9 kmpl' '20.7 kmpl'\n",
      " '14.1 kmpl' '20.89 kmpl' '18.12 kmpl' '12.3 kmpl' '19.71 kmpl'\n",
      " '9.43 kmpl' '13.4 kmpl' '13.14 kmpl' '18.1 kmpl' '22.77 kmpl'\n",
      " '14.49 kmpl' '12.39 kmpl' '10.91 kmpl' '20.85 kmpl' '15.63 kmpl'\n",
      " '27.39 kmpl' '18.3 kmpl' '16.78 kmpl' '25.5 kmpl' '10.0 kmpl'\n",
      " '13.73 kmpl' '24.2 kmpl' '14.02 kmpl' '26.83 km/kg' '16.77 kmpl'\n",
      " '24.5 kmpl' '20.34 kmpl' '21.7 kmpl' '9.7 kmpl' '14.33 kmpl' '21.64 kmpl'\n",
      " '13.2 km/kg' '19.16 kmpl' '16.93 kmpl' '9.0 kmpl' '26.2 km/kg'\n",
      " '16.3 kmpl' '12.62 kmpl' '17.3 km/kg' '20.64 kmpl' '14.24 kmpl'\n",
      " '18.06 kmpl' '10.2 kmpl' '10.1 kmpl' '18.25 kmpl' '13.93 kmpl'\n",
      " '25.83 kmpl' '8.6 kmpl' '13.24 kmpl' '17.09 kmpl' '23.84 kmpl'\n",
      " '8.45 kmpl' '19.6 kmpl' '19.5 kmpl' '20.3 kmpl' '16.05 kmpl' '11.2 kmpl'\n",
      " '27.03 kmpl' '18.78 kmpl' '12.35 kmpl' '14.59 kmpl' '17.32 kmpl'\n",
      " '14.95 kmpl' '13.22 kmpl' '23.03 kmpl' '33.44 km/kg' '15.6 kmpl'\n",
      " '19.12 kmpl' '10.98 kmpl' '33.54 km/kg' '16.46 kmpl' '18.4 kmpl'\n",
      " '11.1 kmpl' '13.01 kmpl' '18.8 kmpl' '16.52 kmpl' '18.44 kmpl'\n",
      " '19.49 kmpl' '23.5 kmpl' '23.8 kmpl' '12.65 kmpl' '20.65 kmpl'\n",
      " '21.72 kmpl' '12.19 kmpl' '26.1 kmpl' '18.33 kmpl' '12.81 kmpl'\n",
      " '17.5 km/kg' '17.06 kmpl' '17.67 kmpl' '19.34 kmpl' '8.3 kmpl'\n",
      " '16.96 kmpl' '11.79 kmpl' '20.86 kmpl' '16.98 kmpl' '11.68 kmpl'\n",
      " '15.74 kmpl' '15.7 kmpl' '18.49 kmpl' '10.9 kmpl' '19.59 kmpl'\n",
      " '11.4 kmpl' '13.06 kmpl' '21.0 kmpl' '15.15 kmpl' '16.9 kmpl'\n",
      " '18.23 kmpl' '25.0 km/kg' '17.16 kmpl' '17.43 kmpl' '19.08 kmpl'\n",
      " '18.56 kmpl' '11.9 kmpl' '24.6 km/kg' '21.79 kmpl' '12.95 kmpl'\n",
      " '25.6 kmpl' '13.45 km/kg' '26.21 kmpl' '13.58 kmpl' '16.25 kmpl'\n",
      " '10.4 kmpl' '17.44 kmpl' '19.2 km/kg' '22.71 kmpl' '17.54 kmpl'\n",
      " '22.1 km/kg' '17.0 km/kg' '15.87 kmpl' '9.5 kmpl' '11.56 kmpl'\n",
      " '14.39 kmpl' '19.09 kmpl' '17.85 kmpl' '31.79 km/kg' '18.18 kmpl'\n",
      " '21.19 kmpl' '21.8 kmpl' '15.42 kmpl' '14.47 kmpl' '19.69 kmpl'\n",
      " '12.83 kmpl' '8.0 kmpl' '22.8 km/kg' '12.63 kmpl' '14.57 kmpl'\n",
      " '27.28 kmpl' '15.41 kmpl' '32.26 km/kg' '18.19 kmpl' '13.33 kmpl'\n",
      " '16.7 kmpl' '17.84 kmpl' '20.0 km/kg' '23.19 kmpl' '11.49 kmpl'\n",
      " '18.51 kmpl' '13.44 kmpl' '8.7 kmpl' '8.77 kmpl' '17.97 kmpl'\n",
      " '23.57 kmpl' '12.37 kmpl' '9.1 kmpl' '12.51 kmpl' '19.44 kmpl'\n",
      " '21.38 kmpl' '16.51 kmpl' '24.8 kmpl' '14.42 kmpl' '14.53 km/kg'\n",
      " '26.8 kmpl' '24.04 kmpl' '9.8 kmpl' '19.68 kmpl' '21.4 km/kg' '21.2 kmpl'\n",
      " '19.72 kmpl' '14.2 kmpl' '12.98 kmpl' '23.01 kmpl' '16.12 kmpl'\n",
      " '9.3 kmpl' '15.85 kmpl' nan '17.88 kmpl' '10.6 kmpl' '11.78 kmpl'\n",
      " '7.94 kmpl' '25.01 kmpl' '8.1 kmpl' '13.9 kmpl' '11.62 kmpl' '20.62 kmpl'\n",
      " '15.11 kmpl' '10.37 kmpl' '18.59 kmpl' '9.74 kmpl' '14.81 kmpl'\n",
      " '8.2 kmpl' '12.97 kmpl' '7.5 kmpl' '30.46 km/kg' '6.4 kmpl' '12.85 kmpl'\n",
      " '18.69 kmpl' '17.24 kmpl' '13.07 kmpl' '12.2 kmpl' '20.8 kmpl'\n",
      " '11.88 km/kg' '12.08 kmpl' '15.56 kmpl' '14.5 kmpl' '17.15 kmpl']\n",
      "Engine unique values are ['998 CC' '1582 CC' '1199 CC' '1248 CC' '1968 CC' '814 CC' '1461 CC'\n",
      " '2755 CC' '1598 CC' '1462 CC' '1497 CC' '2179 CC' '2477 CC' '1498 CC'\n",
      " '2143 CC' '1995 CC' '1984 CC' '1197 CC' '2494 CC' '1798 CC' '2696 CC'\n",
      " '2698 CC' '1061 CC' '1198 CC' '2987 CC' '796 CC' '624 CC' '1999 CC'\n",
      " '1991 CC' '2694 CC' '1120 CC' '2498 CC' '799 CC' '2393 CC' '1399 CC'\n",
      " '1796 CC' '2148 CC' '1396 CC' '1950 CC' '4806 CC' '1998 CC' '1086 CC'\n",
      " '1193 CC' '2982 CC' '1493 CC' '2967 CC' '2993 CC' '1196 CC' '1799 CC'\n",
      " '2497 CC' '2354 CC' '1373 CC' '2996 CC' '1591 CC' '2894 CC' '5461 CC'\n",
      " '1595 CC' '936 CC' '1997 CC' nan '1896 CC' '1390 CC' '1364 CC' '2199 CC'\n",
      " '993 CC' '999 CC' '1405 CC' '2956 CC' '1794 CC' '995 CC' '2496 CC'\n",
      " '1599 CC' '2400 CC' '1495 CC' '2523 CC' '793 CC' '4134 CC' '1596 CC'\n",
      " '1395 CC' '2953 CC' '1586 CC' '2362 CC' '1496 CC' '1368 CC' '1298 CC'\n",
      " '1956 CC' '1299 CC' '3498 CC' '2835 CC' '1150 CC' '3198 CC' '1343 CC'\n",
      " '1499 CC' '1186 CC' '1590 CC' '2609 CC' '2499 CC' '2446 CC' '1978 CC'\n",
      " '2360 CC' '3436 CC' '2198 CC' '4367 CC' '2706 CC' '1422 CC' '2979 CC'\n",
      " '1969 CC' '1489 CC' '2489 CC' '1242 CC' '1388 CC' '1172 CC' '2495 CC'\n",
      " '1194 CC' '3200 CC' '1781 CC' '1341 CC' '2773 CC' '3597 CC' '1985 CC'\n",
      " '2147 CC' '1047 CC' '2999 CC' '2995 CC' '2997 CC' '1948 CC' '2359 CC'\n",
      " '4395 CC' '2349 CC' '2720 CC' '1468 CC' '3197 CC' '2487 CC' '1597 CC'\n",
      " '2771 CC' '72 CC' '4951 CC' '970 CC' '2925 CC' '2200 CC' '5000 CC'\n",
      " '2149 CC' '5998 CC' '2092 CC' '5204 CC' '2112 CC' '1797 CC' '2000 CC'\n",
      " '1795 CC' '3696 CC' '1389 CC']\n",
      "Power unique values are ['58.16 bhp' '126.2 bhp' '88.7 bhp' '88.76 bhp' '140.8 bhp' '55.2 bhp'\n",
      " '63.1 bhp' '171.5 bhp' '103.6 bhp' '74 bhp' '103.25 bhp' '116.3 bhp'\n",
      " '187.7 bhp' '115 bhp' '175.56 bhp' '98.6 bhp' '83.8 bhp' '167.62 bhp'\n",
      " '190 bhp' '88.5 bhp' '177.01 bhp' '80 bhp' '67.1 bhp' '102 bhp'\n",
      " '108.45 bhp' '138.1 bhp' '184 bhp' '179.5 bhp' '103.5 bhp' '64 bhp'\n",
      " '82 bhp' '254.8 bhp' '73.9 bhp' '46.3 bhp' '37.5 bhp' '77 bhp' '82.9 bhp'\n",
      " '149.92 bhp' '138.03 bhp' '112.2 bhp' '163.7 bhp' '71 bhp' '105 bhp'\n",
      " '174.33 bhp' '75 bhp' '103.2 bhp' '53.3 bhp' '78.9 bhp' '147.6 bhp'\n",
      " '147.8 bhp' '68 bhp' '186 bhp' '170 bhp' '69 bhp' '140 bhp' '78 bhp'\n",
      " '194 bhp' '500 bhp' '108.5 bhp' '86.8 bhp' '187.74 bhp' 'null bhp'\n",
      " '132 bhp' '86.7 bhp' '73.94 bhp' '117.3 bhp' '218 bhp' '168.5 bhp'\n",
      " '89.84 bhp' '110 bhp' '90 bhp' '82.85 bhp' '67 bhp' '241.4 bhp' '35 bhp'\n",
      " '270.9 bhp' '126.32 bhp' '73 bhp' '130 bhp' '100.6 bhp' '150 bhp'\n",
      " '75.94 bhp' '215 bhp' '107.3 bhp' '37.48 bhp' '120 bhp' '178 bhp'\n",
      " '152 bhp' '91.1 bhp' '85.80 bhp' '362.07 bhp' '121.3 bhp' '143 bhp'\n",
      " '81.80 bhp' '171 bhp' '76.8 bhp' '103.52 bhp' '444 bhp' '362.9 bhp'\n",
      " '67.06 bhp' '120.7 bhp' '258 bhp' '81.86 bhp' '112 bhp' '88.73 bhp'\n",
      " '57.6 bhp' '157.75 bhp' '102.5 bhp' '201.1 bhp' '83.1 bhp' '68.05 bhp'\n",
      " '88.50 bhp' nan '106 bhp' '100 bhp' '81.83 bhp' '85 bhp' '64.1 bhp'\n",
      " '177.5 bhp' '246.7 bhp' '177.46 bhp' '65 bhp' '67.04 bhp' '189.08 bhp'\n",
      " '99 bhp' '53.5 bhp' '194.3 bhp' '70 bhp' '183 bhp' '254.79 bhp'\n",
      " '66.1 bhp' '76 bhp' '60 bhp' '123.24 bhp' '47.3 bhp' '118 bhp' '88.8 bhp'\n",
      " '177 bhp' '136 bhp' '201.15 bhp' '93.7 bhp' '177.6 bhp' '313 bhp'\n",
      " '245 bhp' '125 bhp' '141 bhp' '227 bhp' '62 bhp' '141.1 bhp' '83.14 bhp'\n",
      " '192 bhp' '67.05 bhp' '47 bhp' '235 bhp' '37 bhp' '87.2 bhp' '203 bhp'\n",
      " '204 bhp' '246.74 bhp' '122 bhp' '282 bhp' '181 bhp' '224 bhp' '94 bhp'\n",
      " '367 bhp' '98.79 bhp' '62.1 bhp' '174.3 bhp' '114 bhp' '335.2 bhp'\n",
      " '169 bhp' '191.34 bhp' '108.49 bhp' '138.02 bhp' '156 bhp' '187.4 bhp'\n",
      " '66 bhp' '103.3 bhp' '164.7 bhp' '79.4 bhp' '198.5 bhp' '154 bhp'\n",
      " '73.8 bhp' '181.43 bhp' '85.8 bhp' '207.8 bhp' '108.4 bhp' '88 bhp'\n",
      " '63 bhp' '82.5 bhp' '364.9 bhp' '107.2 bhp' '113.98 bhp' '126.3 bhp'\n",
      " '185 bhp' '237.4 bhp' '99.6 bhp' '66.7 bhp' '160 bhp' '306 bhp'\n",
      " '98.59 bhp' '92.7 bhp' '147.51 bhp' '197.2 bhp' '167.6 bhp' '165 bhp'\n",
      " '110.4 bhp' '73.97 bhp' '147.9 bhp' '116.6 bhp' '148 bhp' '34.2 bhp'\n",
      " '155 bhp' '197 bhp' '108.62 bhp' '118.3 bhp' '38.4 bhp' '241.38 bhp'\n",
      " '153.86 bhp' '163.5 bhp' '226.6 bhp' '84.8 bhp' '53.64 bhp' '158.2 bhp'\n",
      " '69.01 bhp' '181.03 bhp' '58.2 bhp' '104.68 bhp' '126.24 bhp' '73.75 bhp'\n",
      " '158 bhp' '130.2 bhp' '57.5 bhp' '97.7 bhp' '121.4 bhp' '98.96 bhp'\n",
      " '174.5 bhp' '308 bhp' '121.36 bhp' '138 bhp' '265 bhp' '84 bhp' '321 bhp'\n",
      " '91.72 bhp' '65.3 bhp' '88.2 bhp' '93 bhp' '35.5 bhp' '86.79 bhp'\n",
      " '157.7 bhp' '40.3 bhp' '91.7 bhp' '180 bhp' '114.4 bhp' '158.8 bhp'\n",
      " '157.8 bhp' '123.7 bhp' '56.3 bhp' '189 bhp' '104 bhp' '210 bhp'\n",
      " '270.88 bhp' '142 bhp' '255 bhp' '236 bhp' '167.7 bhp' '148.31 bhp'\n",
      " '80.46 bhp' '138.08 bhp' '250 bhp' '74.9 bhp' '91.2 bhp' '102.57 bhp'\n",
      " '97.6 bhp' '102.53 bhp' '240 bhp' '254 bhp' '112.4 bhp' '73.74 bhp'\n",
      " '108.495 bhp' '116.9 bhp' '101 bhp' '320 bhp' '70.02 bhp' '261.49 bhp'\n",
      " '105.5 bhp' '550 bhp' '168.7 bhp' '55.23 bhp' '94.68 bhp' '152.88 bhp'\n",
      " '163.2 bhp' '203.2 bhp' '241 bhp' '95 bhp' '200 bhp' '271.23 bhp'\n",
      " '63.12 bhp' '85.7 bhp' '308.43 bhp' '118.6 bhp' '199.3 bhp' '83.83 bhp'\n",
      " '55 bhp' '83 bhp' '300 bhp' '201 bhp' '262.6 bhp' '163 bhp' '58.33 bhp'\n",
      " '86.76 bhp' '76.9 bhp' '174.57 bhp' '301.73 bhp' '68.1 bhp' '162 bhp'\n",
      " '394.3 bhp' '80.9 bhp' '147.5 bhp' '272 bhp' '340 bhp' '120.33 bhp'\n",
      " '82.4 bhp' '231.1 bhp' '335.3 bhp' '333 bhp' '198.25 bhp' '224.34 bhp'\n",
      " '402 bhp' '261 bhp' '61 bhp' '144 bhp' '71.01 bhp' '271.72 bhp' '134 bhp'\n",
      " '135.1 bhp' '92 bhp' '64.08 bhp' '261.5 bhp' '123.37 bhp' '175.67 bhp'\n",
      " '53 bhp' '110.5 bhp' '178.4 bhp' '193.1 bhp' '41 bhp' '395 bhp'\n",
      " '48.21 bhp' '450 bhp' '421 bhp' '89.75 bhp' '387.3 bhp' '130.3 bhp'\n",
      " '281.61 bhp' '52.8 bhp' '139.01 bhp' '208 bhp' '503 bhp' '168 bhp'\n",
      " '98.82 bhp' '139.07 bhp' '83.11 bhp' '74.93 bhp' '382 bhp' '74.96 bhp'\n",
      " '552 bhp' '127 bhp' '560 bhp' '116.4 bhp' '161.6 bhp' '488.1 bhp'\n",
      " '103 bhp' '181.04 bhp' '138.13 bhp' '78.8 bhp' '616 bhp' '170.30 bhp'\n",
      " '182.46 bhp' '245.41 bhp' '161 bhp' '120.69 bhp' '252 bhp' '147.4 bhp'\n",
      " '328.5 bhp' '98.63 bhp' '360 bhp' '241.6 bhp']\n",
      "New_Price unique values are [nan '8.61 Lakh' '21 Lakh' '10.65 Lakh' '32.01 Lakh' '47.87 Lakh'\n",
      " '10.57 Lakh' '12.33 Lakh' '11.12 Lakh' '23.64 Lakh' '18.64 Lakh'\n",
      " '19.34 Lakh' '49.14 Lakh' '11.81 Lakh' '16.65 Lakh' '6.67 Lakh'\n",
      " '6.45 Lakh' '6.41 Lakh' '27 Lakh' '5.13 Lakh' '54.43 Lakh' '9.51 Lakh'\n",
      " '9.96 Lakh' '14.44 Lakh' '4.53 Lakh' '95.04 Lakh' '13.49 Lakh' '1.28 Cr'\n",
      " '60.88 Lakh' '7.39 Lakh' '69.47 Lakh' '8.78 Lakh' '12.74 Lakh'\n",
      " '10.52 Lakh' '11.98 Lakh' '8.54 Lakh' '33.58 Lakh' '9.12 Lakh'\n",
      " '5.29 Lakh' '44.28 Lakh' '20.74 Lakh' '11.74 Lakh' '25.52 Lakh'\n",
      " '14.07 Lakh' '95.13 Lakh' '8.34 Lakh' '8.85 Lakh' '25.4 Lakh'\n",
      " '16.67 Lakh' '79.43 Lakh' '6.62 Lakh' '1.04 Cr' '58.67 Lakh' '28.37 Lakh'\n",
      " '4.48 Lakh' '72.64 Lakh' '36.15 Lakh' '44.59 Lakh' '12 Lakh' '14.65 Lakh'\n",
      " '53.72 Lakh' '33.91 Lakh' '12.51 Lakh' '9.74 Lakh' '95.38 Lakh'\n",
      " '60.59 Lakh' '11.28 Lakh' '11.48 Lakh' '11.26 Lakh' '43.65 Lakh'\n",
      " '62.07 Lakh' '86.97 Lakh' '1 Cr' '4.74 Lakh' '14.84 Lakh' '49.49 Lakh'\n",
      " '48.18 Lakh' '12.34 Lakh' '15.38 Lakh' '19.21 Lakh' '22.95 Lakh'\n",
      " '11.15 Lakh' '10.32 Lakh' '28.05 Lakh' '59.77 Lakh' '15.86 Lakh'\n",
      " '19.43 Lakh' '42.12 Lakh' '16.95 Lakh' '15.45 Lakh' '7.87 Lakh'\n",
      " '4.7 Lakh' '15.02 Lakh' '12.56 Lakh' '11.33 Lakh' '26.45 Lakh'\n",
      " '10.34 Lakh' '7.46 Lakh' '11.85 Lakh' '10.41 Lakh' '5.57 Lakh'\n",
      " '42.48 Lakh' '16.04 Lakh' '9.1 Lakh' '7.65 Lakh' '13.74 Lakh' '5.72 Lakh'\n",
      " '21.33 Lakh' '78.76 Lakh' '4.29 Lakh' '10.04 Lakh' '11.67 Lakh'\n",
      " '8.56 Lakh' '4.78 Lakh' '6.14 Lakh' '7.3 Lakh' '4.37 Lakh' '4.98 Lakh'\n",
      " '15.29 Lakh' '24.26 Lakh' '75.12 Lakh' '9.53 Lakh' '34.6 Lakh'\n",
      " '52.26 Lakh' '70.43 Lakh' '4.8 Lakh' '12.12 Lakh' '19.37 Lakh'\n",
      " '12.14 Lakh' '36.69 Lakh' '23.68 Lakh' '55.61 Lakh' '14.1 Lakh'\n",
      " '13.26 Lakh' '11.27 Lakh' '11.2 Lakh' '9.46 Lakh' '12.79 Lakh'\n",
      " '15.57 Lakh' '19.86 Lakh' '6.59 Lakh' '6.54 Lakh' '26.56 Lakh'\n",
      " '15.05 Lakh' '11.01 Lakh' '11 Lakh' '7.55 Lakh' '7.82 Lakh' '6.32 Lakh'\n",
      " '15.14 Lakh' '15.72 Lakh' '45.67 Lakh' '54.7 Lakh' '22.87 Lakh'\n",
      " '6.74 Lakh' '33.09 Lakh' '23.25 Lakh' '19.27 Lakh' '52.77 Lakh'\n",
      " '7.92 Lakh' '7.85 Lakh' '15.55 Lakh' '32.45 Lakh' '4.83 Lakh' '7.13 Lakh'\n",
      " '71.82 Lakh' '50.97 Lakh' '10.73 Lakh' '9.5 Lakh' '52.46 Lakh'\n",
      " '6.07 Lakh' '5.54 Lakh' '4.33 Lakh' '8.63 Lakh' '6.68 Lakh' '7.98 Lakh'\n",
      " '24.82 Lakh' '7.63 Lakh' '22.86 Lakh' '11.06 Lakh' '19.39 Lakh'\n",
      " '21.77 Lakh' '18.35 Lakh' '9.19 Lakh' '8.09 Lakh' '1.39 Cr' '11.52 Lakh'\n",
      " '13.23 Lakh' '10.06 Lakh' '15.34 Lakh' '24.01 Lakh' '11.39 Lakh'\n",
      " '9.79 Lakh' '35 Lakh' '9.26 Lakh' '8.68 Lakh' '66.39 Lakh' '36.45 Lakh'\n",
      " '91.38 Lakh' '53.41 Lakh' '4.59 Lakh' '67.87 Lakh' '9.44 Lakh'\n",
      " '48.64 Lakh' '11.69 Lakh' '11.11 Lakh' '6.33 Lakh' '8.1 Lakh' '6.4 Lakh'\n",
      " '7.59 Lakh' '7 Lakh' '7.43 Lakh' '22.43 Lakh' '24.02 Lakh' '21.69 Lakh'\n",
      " '34.63 Lakh' '43.31 Lakh' '4.71 Lakh' '1.02 Cr' '6.71 Lakh' '34.45 Lakh'\n",
      " '8.58 Lakh' '12.67 Lakh' '11.89 Lakh' '10.48 Lakh' '13.59 Lakh'\n",
      " '11.02 Lakh' '41.94 Lakh' '8.94 Lakh' '21.38 Lakh' '12.88 Lakh'\n",
      " '8.27 Lakh' '7.37 Lakh' '7.33 Lakh' '23.06 Lakh' '1.4 Cr' '5.58 Lakh'\n",
      " '22.46 Lakh' '7.69 Lakh' '9.4 Lakh' '6.08 Lakh' '8.36 Lakh' '1.06 Cr'\n",
      " '71.15 Lakh' '6.82 Lakh' '8.12 Lakh' '9.78 Lakh' '7.36 Lakh' '38.11 Lakh'\n",
      " '11.75 Lakh' '8.44 Lakh' '16.06 Lakh' '6.63 Lakh' '1.27 Cr' '39.6 Lakh'\n",
      " '10.91 Lakh' '25.75 Lakh' '5.61 Lakh' '8.05 Lakh' '8.82 Lakh'\n",
      " '17.38 Lakh' '5.69 Lakh' '37.51 Lakh' '5.88 Lakh' '63.71 Lakh'\n",
      " '11.47 Lakh' '37.46 Lakh' '7.88 Lakh' '11.37 Lakh' '11.3 Lakh'\n",
      " '92.5 Lakh' '15.06 Lakh' '39.57 Lakh' '13.7 Lakh' '11.16 Lakh'\n",
      " '9.47 Lakh' '10.17 Lakh' '8.17 Lakh' '9.58 Lakh' '9.14 Lakh' '64.14 Lakh'\n",
      " '16.36 Lakh' '37.38 Lakh' '22.74 Lakh' '33.36 Lakh' '70.55 Lakh'\n",
      " '1.13 Cr' '45.36 Lakh' '10.13 Lakh' '14.22 Lakh' '11.77 Lakh' '4.05 Lakh'\n",
      " '26.95 Lakh' '4.82 Lakh' '7.17 Lakh' '13.58 Lakh' '9.09 Lakh' '4.09 Lakh'\n",
      " '6.83 Lakh' '5.04 Lakh' '43.81 Lakh' '5.12 Lakh' '5.71 Lakh' '5.87 Lakh'\n",
      " '8.16 Lakh' '9.72 Lakh' '10.3 Lakh' '4.69 Lakh' '5.42 Lakh' '91.23 Lakh'\n",
      " '7.14 Lakh' '69.59 Lakh' '4.61 Lakh' '5.3 Lakh' '7.97 Lakh' '59.38 Lakh'\n",
      " '67.1 Lakh' '12.22 Lakh' '33.68 Lakh' '6.96 Lakh' '7.96 Lakh' '20.8 Lakh'\n",
      " '6.78 Lakh' '19.91 Lakh' '8.93 Lakh' '11.66 Lakh' '7.35 Lakh' '6.99 Lakh'\n",
      " '23.89 Lakh' '7.27 Lakh' '8.84 Lakh' '22.37 Lakh' '12.02 Lakh'\n",
      " '3.95 Lakh' '48.79 Lakh' '4.66 Lakh' '11.29 Lakh' '5.35 Lakh' '1.36 Cr'\n",
      " '6.23 Lakh' '47.16 Lakh' '41.98 Lakh' '35.29 Lakh' '7.91 Lakh'\n",
      " '5.36 Lakh' '5.51 Lakh' '20.97 Lakh' '34.89 Lakh' '16.4 Lakh' '1.66 Cr'\n",
      " '14.67 Lakh' '12.57 Lakh' '9.48 Lakh' '8.95 Lakh' '23.19 Lakh'\n",
      " '8.24 Lakh' '8.71 Lakh' '44.75 Lakh' '87.57 Lakh' '8.57 Lakh' '7.56 Lakh'\n",
      " '43.07 Lakh' '7.83 Lakh' '6 Lakh' '13.76 Lakh' '14.11 Lakh' '12.47 Lakh'\n",
      " '6.51 Lakh' '7.52 Lakh' '15.68 Lakh' '7.45 Lakh' '20.48 Lakh'\n",
      " '15.17 Lakh' '8.13 Lakh' '8.79 Lakh' '14.72 Lakh' '25.54 Lakh'\n",
      " '16.84 Lakh' '8.28 Lakh' '23.94 Lakh' '69.37 Lakh' '9.04 Lakh'\n",
      " '55.07 Lakh' '10.97 Lakh' '21.72 Lakh' '4.9 Lakh' '10.1 Lakh'\n",
      " '12.53 Lakh' '20.87 Lakh' '5.9 Lakh' '64.57 Lakh' '17.21 Lakh'\n",
      " '6.56 Lakh' '47.2 Lakh' '10.14 Lakh' '1.6 Cr' '5.44 Lakh' '26.55 Lakh'\n",
      " '8.26 Lakh' '4.5 Lakh' '56.97 Lakh' '11.19 Lakh' '13.33 Lakh' '8.75 Lakh'\n",
      " '21.1 Lakh' '10.28 Lakh' '11.56 Lakh' '27.07 Lakh' '4.36 Lakh'\n",
      " '10.81 Lakh' '8.55 Lakh' '22.66 Lakh' '4.24 Lakh' '41.02 Lakh' '17 Lakh'\n",
      " '2.3 Cr' '10.89 Lakh' '40.62 Lakh' '7.54 Lakh' '30.19 Lakh' '5.56 Lakh'\n",
      " '4.43 Lakh' '37.17 Lakh' '12.9 Lakh' '19.18 Lakh' '10.99 Lakh'\n",
      " '12.23 Lakh' '11.63 Lakh' '12.27 Lakh' '3.91 Lakh' '44.8 Lakh'\n",
      " '50.4 Lakh' '4.04 Lakh' '11.96 Lakh' '11.44 Lakh' '24.63 Lakh'\n",
      " '50.26 Lakh' '13.72 Lakh' '23.14 Lakh' '6.29 Lakh' '8.18 Lakh'\n",
      " '7.48 Lakh' '83.92 Lakh' '36.94 Lakh' '13.6 Lakh' '10.7 Lakh' '4.87 Lakh'\n",
      " '92.79 Lakh' '5.8 Lakh' '62.11 Lakh' '10.83 Lakh' '11.05 Lakh'\n",
      " '9.99 Lakh' '14.32 Lakh' '6.21 Lakh' '74.49 Lakh' '8.03 Lakh' '1.71 Cr'\n",
      " '37.9 Lakh' '32.54 Lakh' '11.71 Lakh' '3.98 Lakh' '4.55 Lakh' '8.8 Lakh'\n",
      " '11.13 Lakh' '11.58 Lakh' '10.63 Lakh' '12.68 Lakh' '17.7 Lakh'\n",
      " '14.23 Lakh' '9.62 Lakh' '53.14 Lakh' '8.91 Lakh' '10.26 Lakh'\n",
      " '6.94 Lakh' '15.59 Lakh' '78.31 Lakh' '42.89 Lakh' '9.56 Lakh'\n",
      " '64.76 Lakh' '99.92 Lakh' '69.22 Lakh' '18.45 Lakh' '9.89 Lakh'\n",
      " '7.94 Lakh' '8.73 Lakh' '8.69 Lakh' '42.4 Lakh' '23.37 Lakh' '79.78 Lakh'\n",
      " '16.6 Lakh' '4.93 Lakh' '14.2 Lakh' '10.42 Lakh' '9.55 Lakh' '5.45 Lakh'\n",
      " '8.38 Lakh' '5.95 Lakh' '15.36 Lakh' '10.94 Lakh' '10.15 Lakh'\n",
      " '9.83 Lakh' '7.67 Lakh' '9.97 Lakh' '67.67 Lakh' '53.68 Lakh' '6.05 Lakh'\n",
      " '10.25 Lakh' '8.23 Lakh' '7.01 Lakh' '6.8 Lakh' '25.27 Lakh' '57.3 Lakh'\n",
      " '5.68 Lakh' '9.36 Lakh' '38.72 Lakh' '7.7 Lakh' '6.43 Lakh' '5.67 Lakh'\n",
      " '3.96 Lakh' '39.27 Lakh' '33.51 Lakh' '15.94 Lakh' '7.15 Lakh'\n",
      " '13.4 Lakh' '11.88 Lakh' '21.36 Lakh' '5.92 Lakh' '6.42 Lakh' '8.99 Lakh'\n",
      " '12.44 Lakh' '5.77 Lakh' '15.01 Lakh' '40.73 Lakh' '33.21 Lakh'\n",
      " '4.45 Lakh' '20.46 Lakh' '39.22 Lakh' '7.77 Lakh' '11.91 Lakh'\n",
      " '9.93 Lakh' '9.27 Lakh' '14.95 Lakh' '5.78 Lakh' '6.3 Lakh' '5.74 Lakh'\n",
      " '52.96 Lakh' '15.93 Lakh' '3.99 Lakh' '1.58 Cr' '6.15 Lakh' '31.93 Lakh'\n",
      " '15.88 Lakh' '7.19 Lakh' '56.98 Lakh' '14.13 Lakh' '25.04 Lakh'\n",
      " '8.92 Lakh' '5.01 Lakh' '19.01 Lakh' '9.45 Lakh' '3.75 Cr' '35.16 Lakh'\n",
      " '6.24 Lakh' '9.42 Lakh' '4.56 Lakh' '29.9 Lakh' '7.12 Lakh' '9.94 Lakh'\n",
      " '6.44 Lakh' '16.82 Lakh' '63.47 Lakh' '6.7 Lakh' '34.1 Lakh' '5.31 Lakh'\n",
      " '15.24 Lakh' '36.5 Lakh' '37.03 Lakh' '10.86 Lakh' '59.12 Lakh'\n",
      " '5.79 Lakh' '10.55 Lakh' '15.73 Lakh' '27.56 Lakh' '4.75 Lakh'\n",
      " '7.08 Lakh' '77.92 Lakh' '14.86 Lakh' '26.14 Lakh' '32.41 Lakh'\n",
      " '12.05 Lakh' '6.38 Lakh' '5.89 Lakh' '6.55 Lakh' '7.79 Lakh' '18.32 Lakh'\n",
      " '16.64 Lakh' '9.54 Lakh' '23.29 Lakh' '13.08 Lakh' '4.02 Lakh'\n",
      " '66.71 Lakh' '15.11 Lakh' '49.12 Lakh' '10.51 Lakh' '8.65 Lakh'\n",
      " '8.6 Lakh' '10.36 Lakh' '20.69 Lakh' '4.25 Lakh' '92.01 Lakh' '7.9 Lakh'\n",
      " '7.21 Lakh' '16.94 Lakh' '5.27 Lakh' '11.14 Lakh' '20.01 Lakh'\n",
      " '32.62 Lakh' '11.59 Lakh' '6.46 Lakh' '19.72 Lakh' '12.46 Lakh'\n",
      " '9.11 Lakh' '5.53 Lakh' '7.06 Lakh' '18.16 Lakh']\n"
     ]
    }
   ],
   "source": [
    "for column in columns:\n",
    "    if data[column].dtypes == \"object\" :\n",
    "        print(column,\"unique values are {}\".format(data[column].unique()) )"
   ]
  },
  {
   "cell_type": "code",
   "execution_count": 14,
   "metadata": {},
   "outputs": [
    {
     "data": {
      "text/plain": [
       "Name                    0\n",
       "Location                0\n",
       "Year                    0\n",
       "Kilometers_Driven       0\n",
       "Fuel_Type               0\n",
       "Transmission            0\n",
       "Owner_Type              0\n",
       "Mileage                 2\n",
       "Engine                 46\n",
       "Power                  46\n",
       "Seats                  53\n",
       "New_Price            6247\n",
       "Price                1234\n",
       "dtype: int64"
      ]
     },
     "execution_count": 14,
     "metadata": {},
     "output_type": "execute_result"
    }
   ],
   "source": [
    "data.isnull().sum()"
   ]
  },
  {
   "cell_type": "code",
   "execution_count": 15,
   "metadata": {},
   "outputs": [],
   "source": [
    "data['Seats'].fillna(data['Seats'].mode()[0],inplace  = True)"
   ]
  },
  {
   "cell_type": "code",
   "execution_count": 16,
   "metadata": {},
   "outputs": [
    {
     "data": {
      "text/plain": [
       "0       5.0\n",
       "1       5.0\n",
       "2       5.0\n",
       "3       7.0\n",
       "4       5.0\n",
       "       ... \n",
       "1229    5.0\n",
       "1230    5.0\n",
       "1231    5.0\n",
       "1232    5.0\n",
       "1233    5.0\n",
       "Name: Seats, Length: 7253, dtype: float64"
      ]
     },
     "execution_count": 16,
     "metadata": {},
     "output_type": "execute_result"
    }
   ],
   "source": [
    "data['Seats']"
   ]
  },
  {
   "cell_type": "code",
   "execution_count": 17,
   "metadata": {},
   "outputs": [],
   "source": [
    "data['Seats'] = data['Seats'].astype(int)"
   ]
  },
  {
   "cell_type": "code",
   "execution_count": 18,
   "metadata": {},
   "outputs": [
    {
     "name": "stdout",
     "output_type": "stream",
     "text": [
      "<class 'pandas.core.frame.DataFrame'>\n",
      "Int64Index: 7253 entries, 0 to 1233\n",
      "Data columns (total 13 columns):\n",
      " #   Column             Non-Null Count  Dtype  \n",
      "---  ------             --------------  -----  \n",
      " 0   Name               7253 non-null   object \n",
      " 1   Location           7253 non-null   object \n",
      " 2   Year               7253 non-null   int64  \n",
      " 3   Kilometers_Driven  7253 non-null   int64  \n",
      " 4   Fuel_Type          7253 non-null   object \n",
      " 5   Transmission       7253 non-null   object \n",
      " 6   Owner_Type         7253 non-null   object \n",
      " 7   Mileage            7251 non-null   object \n",
      " 8   Engine             7207 non-null   object \n",
      " 9   Power              7207 non-null   object \n",
      " 10  Seats              7253 non-null   int32  \n",
      " 11  New_Price          1006 non-null   object \n",
      " 12  Price              6019 non-null   float64\n",
      "dtypes: float64(1), int32(1), int64(2), object(9)\n",
      "memory usage: 765.0+ KB\n"
     ]
    }
   ],
   "source": [
    "data.info()"
   ]
  },
  {
   "cell_type": "code",
   "execution_count": 20,
   "metadata": {},
   "outputs": [
    {
     "name": "stdout",
     "output_type": "stream",
     "text": [
      "<class 'pandas.core.frame.DataFrame'>\n",
      "Int64Index: 7253 entries, 0 to 1233\n",
      "Data columns (total 13 columns):\n",
      " #   Column             Non-Null Count  Dtype  \n",
      "---  ------             --------------  -----  \n",
      " 0   Name               7253 non-null   object \n",
      " 1   Location           7253 non-null   object \n",
      " 2   Year               7253 non-null   int64  \n",
      " 3   Kilometers_Driven  7253 non-null   int64  \n",
      " 4   Fuel_Type          7253 non-null   object \n",
      " 5   Transmission       7253 non-null   object \n",
      " 6   Owner_Type         7253 non-null   object \n",
      " 7   Mileage            7251 non-null   object \n",
      " 8   Engine             7207 non-null   object \n",
      " 9   Power              7207 non-null   object \n",
      " 10  Seats              7253 non-null   int32  \n",
      " 11  New_Price          1006 non-null   object \n",
      " 12  Price              6019 non-null   float64\n",
      "dtypes: float64(1), int32(1), int64(2), object(9)\n",
      "memory usage: 765.0+ KB\n"
     ]
    }
   ],
   "source": [
    "data.info()"
   ]
  },
  {
   "cell_type": "code",
   "execution_count": 21,
   "metadata": {},
   "outputs": [
    {
     "data": {
      "text/plain": [
       "array([2010, 2015, 2011, 2012, 2013, 2016, 2018, 2014, 2017, 2007, 2009,\n",
       "       2008, 2019, 2006, 2005, 2004, 2002, 2000, 2003, 1999, 2001, 1998,\n",
       "       1996], dtype=int64)"
      ]
     },
     "execution_count": 21,
     "metadata": {},
     "output_type": "execute_result"
    }
   ],
   "source": [
    "data['Year'].unique()\n"
   ]
  },
  {
   "cell_type": "code",
   "execution_count": 22,
   "metadata": {},
   "outputs": [
    {
     "data": {
      "text/plain": [
       "array([ 1.75, 12.5 ,  4.5 , ..., 17.56,  7.43,   nan])"
      ]
     },
     "execution_count": 22,
     "metadata": {},
     "output_type": "execute_result"
    }
   ],
   "source": [
    "data['Price'].unique()"
   ]
  },
  {
   "cell_type": "code",
   "execution_count": 23,
   "metadata": {},
   "outputs": [
    {
     "data": {
      "text/plain": [
       "array([72000, 41000, 46000, ..., 89411, 52262, 72443], dtype=int64)"
      ]
     },
     "execution_count": 23,
     "metadata": {},
     "output_type": "execute_result"
    }
   ],
   "source": [
    "data['Kilometers_Driven'].unique()"
   ]
  },
  {
   "cell_type": "code",
   "execution_count": 24,
   "metadata": {},
   "outputs": [
    {
     "data": {
      "text/plain": [
       "array(['CNG', 'Diesel', 'Petrol', 'LPG', 'Electric'], dtype=object)"
      ]
     },
     "execution_count": 24,
     "metadata": {},
     "output_type": "execute_result"
    }
   ],
   "source": [
    "data['Fuel_Type'].unique()"
   ]
  },
  {
   "cell_type": "code",
   "execution_count": 25,
   "metadata": {},
   "outputs": [
    {
     "data": {
      "text/html": [
       "<div>\n",
       "<style scoped>\n",
       "    .dataframe tbody tr th:only-of-type {\n",
       "        vertical-align: middle;\n",
       "    }\n",
       "\n",
       "    .dataframe tbody tr th {\n",
       "        vertical-align: top;\n",
       "    }\n",
       "\n",
       "    .dataframe thead th {\n",
       "        text-align: right;\n",
       "    }\n",
       "</style>\n",
       "<table border=\"1\" class=\"dataframe\">\n",
       "  <thead>\n",
       "    <tr style=\"text-align: right;\">\n",
       "      <th></th>\n",
       "      <th>Name</th>\n",
       "      <th>Location</th>\n",
       "      <th>Year</th>\n",
       "      <th>Kilometers_Driven</th>\n",
       "      <th>Fuel_Type</th>\n",
       "      <th>Transmission</th>\n",
       "      <th>Owner_Type</th>\n",
       "      <th>Mileage</th>\n",
       "      <th>Engine</th>\n",
       "      <th>Power</th>\n",
       "      <th>Seats</th>\n",
       "      <th>New_Price</th>\n",
       "      <th>Price</th>\n",
       "    </tr>\n",
       "  </thead>\n",
       "  <tbody>\n",
       "    <tr>\n",
       "      <th>0</th>\n",
       "      <td>Maruti Wagon R LXI CNG</td>\n",
       "      <td>Mumbai</td>\n",
       "      <td>2010</td>\n",
       "      <td>72000</td>\n",
       "      <td>CNG</td>\n",
       "      <td>Manual</td>\n",
       "      <td>First</td>\n",
       "      <td>26.6 km/kg</td>\n",
       "      <td>998 CC</td>\n",
       "      <td>58.16 bhp</td>\n",
       "      <td>5</td>\n",
       "      <td>NaN</td>\n",
       "      <td>1.75</td>\n",
       "    </tr>\n",
       "    <tr>\n",
       "      <th>1</th>\n",
       "      <td>Hyundai Creta 1.6 CRDi SX Option</td>\n",
       "      <td>Pune</td>\n",
       "      <td>2015</td>\n",
       "      <td>41000</td>\n",
       "      <td>Diesel</td>\n",
       "      <td>Manual</td>\n",
       "      <td>First</td>\n",
       "      <td>19.67 kmpl</td>\n",
       "      <td>1582 CC</td>\n",
       "      <td>126.2 bhp</td>\n",
       "      <td>5</td>\n",
       "      <td>NaN</td>\n",
       "      <td>12.50</td>\n",
       "    </tr>\n",
       "    <tr>\n",
       "      <th>2</th>\n",
       "      <td>Honda Jazz V</td>\n",
       "      <td>Chennai</td>\n",
       "      <td>2011</td>\n",
       "      <td>46000</td>\n",
       "      <td>Petrol</td>\n",
       "      <td>Manual</td>\n",
       "      <td>First</td>\n",
       "      <td>18.2 kmpl</td>\n",
       "      <td>1199 CC</td>\n",
       "      <td>88.7 bhp</td>\n",
       "      <td>5</td>\n",
       "      <td>8.61 Lakh</td>\n",
       "      <td>4.50</td>\n",
       "    </tr>\n",
       "    <tr>\n",
       "      <th>3</th>\n",
       "      <td>Maruti Ertiga VDI</td>\n",
       "      <td>Chennai</td>\n",
       "      <td>2012</td>\n",
       "      <td>87000</td>\n",
       "      <td>Diesel</td>\n",
       "      <td>Manual</td>\n",
       "      <td>First</td>\n",
       "      <td>20.77 kmpl</td>\n",
       "      <td>1248 CC</td>\n",
       "      <td>88.76 bhp</td>\n",
       "      <td>7</td>\n",
       "      <td>NaN</td>\n",
       "      <td>6.00</td>\n",
       "    </tr>\n",
       "    <tr>\n",
       "      <th>4</th>\n",
       "      <td>Audi A4 New 2.0 TDI Multitronic</td>\n",
       "      <td>Coimbatore</td>\n",
       "      <td>2013</td>\n",
       "      <td>40670</td>\n",
       "      <td>Diesel</td>\n",
       "      <td>Automatic</td>\n",
       "      <td>Second</td>\n",
       "      <td>15.2 kmpl</td>\n",
       "      <td>1968 CC</td>\n",
       "      <td>140.8 bhp</td>\n",
       "      <td>5</td>\n",
       "      <td>NaN</td>\n",
       "      <td>17.74</td>\n",
       "    </tr>\n",
       "    <tr>\n",
       "      <th>5</th>\n",
       "      <td>Hyundai EON LPG Era Plus Option</td>\n",
       "      <td>Hyderabad</td>\n",
       "      <td>2012</td>\n",
       "      <td>75000</td>\n",
       "      <td>LPG</td>\n",
       "      <td>Manual</td>\n",
       "      <td>First</td>\n",
       "      <td>21.1 km/kg</td>\n",
       "      <td>814 CC</td>\n",
       "      <td>55.2 bhp</td>\n",
       "      <td>5</td>\n",
       "      <td>NaN</td>\n",
       "      <td>2.35</td>\n",
       "    </tr>\n",
       "    <tr>\n",
       "      <th>6</th>\n",
       "      <td>Nissan Micra Diesel XV</td>\n",
       "      <td>Jaipur</td>\n",
       "      <td>2013</td>\n",
       "      <td>86999</td>\n",
       "      <td>Diesel</td>\n",
       "      <td>Manual</td>\n",
       "      <td>First</td>\n",
       "      <td>23.08 kmpl</td>\n",
       "      <td>1461 CC</td>\n",
       "      <td>63.1 bhp</td>\n",
       "      <td>5</td>\n",
       "      <td>NaN</td>\n",
       "      <td>3.50</td>\n",
       "    </tr>\n",
       "    <tr>\n",
       "      <th>7</th>\n",
       "      <td>Toyota Innova Crysta 2.8 GX AT 8S</td>\n",
       "      <td>Mumbai</td>\n",
       "      <td>2016</td>\n",
       "      <td>36000</td>\n",
       "      <td>Diesel</td>\n",
       "      <td>Automatic</td>\n",
       "      <td>First</td>\n",
       "      <td>11.36 kmpl</td>\n",
       "      <td>2755 CC</td>\n",
       "      <td>171.5 bhp</td>\n",
       "      <td>8</td>\n",
       "      <td>21 Lakh</td>\n",
       "      <td>17.50</td>\n",
       "    </tr>\n",
       "    <tr>\n",
       "      <th>8</th>\n",
       "      <td>Volkswagen Vento Diesel Comfortline</td>\n",
       "      <td>Pune</td>\n",
       "      <td>2013</td>\n",
       "      <td>64430</td>\n",
       "      <td>Diesel</td>\n",
       "      <td>Manual</td>\n",
       "      <td>First</td>\n",
       "      <td>20.54 kmpl</td>\n",
       "      <td>1598 CC</td>\n",
       "      <td>103.6 bhp</td>\n",
       "      <td>5</td>\n",
       "      <td>NaN</td>\n",
       "      <td>5.20</td>\n",
       "    </tr>\n",
       "    <tr>\n",
       "      <th>9</th>\n",
       "      <td>Tata Indica Vista Quadrajet LS</td>\n",
       "      <td>Chennai</td>\n",
       "      <td>2012</td>\n",
       "      <td>65932</td>\n",
       "      <td>Diesel</td>\n",
       "      <td>Manual</td>\n",
       "      <td>Second</td>\n",
       "      <td>22.3 kmpl</td>\n",
       "      <td>1248 CC</td>\n",
       "      <td>74 bhp</td>\n",
       "      <td>5</td>\n",
       "      <td>NaN</td>\n",
       "      <td>1.95</td>\n",
       "    </tr>\n",
       "    <tr>\n",
       "      <th>10</th>\n",
       "      <td>Maruti Ciaz Zeta</td>\n",
       "      <td>Kochi</td>\n",
       "      <td>2018</td>\n",
       "      <td>25692</td>\n",
       "      <td>Petrol</td>\n",
       "      <td>Manual</td>\n",
       "      <td>First</td>\n",
       "      <td>21.56 kmpl</td>\n",
       "      <td>1462 CC</td>\n",
       "      <td>103.25 bhp</td>\n",
       "      <td>5</td>\n",
       "      <td>10.65 Lakh</td>\n",
       "      <td>9.95</td>\n",
       "    </tr>\n",
       "    <tr>\n",
       "      <th>11</th>\n",
       "      <td>Honda City 1.5 V AT Sunroof</td>\n",
       "      <td>Kolkata</td>\n",
       "      <td>2012</td>\n",
       "      <td>60000</td>\n",
       "      <td>Petrol</td>\n",
       "      <td>Automatic</td>\n",
       "      <td>First</td>\n",
       "      <td>16.8 kmpl</td>\n",
       "      <td>1497 CC</td>\n",
       "      <td>116.3 bhp</td>\n",
       "      <td>5</td>\n",
       "      <td>NaN</td>\n",
       "      <td>4.49</td>\n",
       "    </tr>\n",
       "    <tr>\n",
       "      <th>12</th>\n",
       "      <td>Maruti Swift VDI BSIV</td>\n",
       "      <td>Jaipur</td>\n",
       "      <td>2015</td>\n",
       "      <td>64424</td>\n",
       "      <td>Diesel</td>\n",
       "      <td>Manual</td>\n",
       "      <td>First</td>\n",
       "      <td>25.2 kmpl</td>\n",
       "      <td>1248 CC</td>\n",
       "      <td>74 bhp</td>\n",
       "      <td>5</td>\n",
       "      <td>NaN</td>\n",
       "      <td>5.60</td>\n",
       "    </tr>\n",
       "    <tr>\n",
       "      <th>13</th>\n",
       "      <td>Land Rover Range Rover 2.2L Pure</td>\n",
       "      <td>Delhi</td>\n",
       "      <td>2014</td>\n",
       "      <td>72000</td>\n",
       "      <td>Diesel</td>\n",
       "      <td>Automatic</td>\n",
       "      <td>First</td>\n",
       "      <td>12.7 kmpl</td>\n",
       "      <td>2179 CC</td>\n",
       "      <td>187.7 bhp</td>\n",
       "      <td>5</td>\n",
       "      <td>NaN</td>\n",
       "      <td>27.00</td>\n",
       "    </tr>\n",
       "    <tr>\n",
       "      <th>14</th>\n",
       "      <td>Land Rover Freelander 2 TD4 SE</td>\n",
       "      <td>Pune</td>\n",
       "      <td>2012</td>\n",
       "      <td>85000</td>\n",
       "      <td>Diesel</td>\n",
       "      <td>Automatic</td>\n",
       "      <td>Second</td>\n",
       "      <td>0.0 kmpl</td>\n",
       "      <td>2179 CC</td>\n",
       "      <td>115 bhp</td>\n",
       "      <td>5</td>\n",
       "      <td>NaN</td>\n",
       "      <td>17.50</td>\n",
       "    </tr>\n",
       "  </tbody>\n",
       "</table>\n",
       "</div>"
      ],
      "text/plain": [
       "                                   Name    Location  Year  Kilometers_Driven  \\\n",
       "0                Maruti Wagon R LXI CNG      Mumbai  2010              72000   \n",
       "1      Hyundai Creta 1.6 CRDi SX Option        Pune  2015              41000   \n",
       "2                          Honda Jazz V     Chennai  2011              46000   \n",
       "3                     Maruti Ertiga VDI     Chennai  2012              87000   \n",
       "4       Audi A4 New 2.0 TDI Multitronic  Coimbatore  2013              40670   \n",
       "5       Hyundai EON LPG Era Plus Option   Hyderabad  2012              75000   \n",
       "6                Nissan Micra Diesel XV      Jaipur  2013              86999   \n",
       "7     Toyota Innova Crysta 2.8 GX AT 8S      Mumbai  2016              36000   \n",
       "8   Volkswagen Vento Diesel Comfortline        Pune  2013              64430   \n",
       "9        Tata Indica Vista Quadrajet LS     Chennai  2012              65932   \n",
       "10                     Maruti Ciaz Zeta       Kochi  2018              25692   \n",
       "11          Honda City 1.5 V AT Sunroof     Kolkata  2012              60000   \n",
       "12                Maruti Swift VDI BSIV      Jaipur  2015              64424   \n",
       "13     Land Rover Range Rover 2.2L Pure       Delhi  2014              72000   \n",
       "14       Land Rover Freelander 2 TD4 SE        Pune  2012              85000   \n",
       "\n",
       "   Fuel_Type Transmission Owner_Type     Mileage   Engine       Power  Seats  \\\n",
       "0        CNG       Manual      First  26.6 km/kg   998 CC   58.16 bhp      5   \n",
       "1     Diesel       Manual      First  19.67 kmpl  1582 CC   126.2 bhp      5   \n",
       "2     Petrol       Manual      First   18.2 kmpl  1199 CC    88.7 bhp      5   \n",
       "3     Diesel       Manual      First  20.77 kmpl  1248 CC   88.76 bhp      7   \n",
       "4     Diesel    Automatic     Second   15.2 kmpl  1968 CC   140.8 bhp      5   \n",
       "5        LPG       Manual      First  21.1 km/kg   814 CC    55.2 bhp      5   \n",
       "6     Diesel       Manual      First  23.08 kmpl  1461 CC    63.1 bhp      5   \n",
       "7     Diesel    Automatic      First  11.36 kmpl  2755 CC   171.5 bhp      8   \n",
       "8     Diesel       Manual      First  20.54 kmpl  1598 CC   103.6 bhp      5   \n",
       "9     Diesel       Manual     Second   22.3 kmpl  1248 CC      74 bhp      5   \n",
       "10    Petrol       Manual      First  21.56 kmpl  1462 CC  103.25 bhp      5   \n",
       "11    Petrol    Automatic      First   16.8 kmpl  1497 CC   116.3 bhp      5   \n",
       "12    Diesel       Manual      First   25.2 kmpl  1248 CC      74 bhp      5   \n",
       "13    Diesel    Automatic      First   12.7 kmpl  2179 CC   187.7 bhp      5   \n",
       "14    Diesel    Automatic     Second    0.0 kmpl  2179 CC     115 bhp      5   \n",
       "\n",
       "     New_Price  Price  \n",
       "0          NaN   1.75  \n",
       "1          NaN  12.50  \n",
       "2    8.61 Lakh   4.50  \n",
       "3          NaN   6.00  \n",
       "4          NaN  17.74  \n",
       "5          NaN   2.35  \n",
       "6          NaN   3.50  \n",
       "7      21 Lakh  17.50  \n",
       "8          NaN   5.20  \n",
       "9          NaN   1.95  \n",
       "10  10.65 Lakh   9.95  \n",
       "11         NaN   4.49  \n",
       "12         NaN   5.60  \n",
       "13         NaN  27.00  \n",
       "14         NaN  17.50  "
      ]
     },
     "execution_count": 25,
     "metadata": {},
     "output_type": "execute_result"
    }
   ],
   "source": [
    "data.head(15)"
   ]
  },
  {
   "cell_type": "code",
   "execution_count": 26,
   "metadata": {},
   "outputs": [],
   "source": [
    "back_up = data.copy()"
   ]
  },
  {
   "cell_type": "code",
   "execution_count": 27,
   "metadata": {},
   "outputs": [
    {
     "data": {
      "text/plain": [
       "Name                    0\n",
       "Location                0\n",
       "Year                    0\n",
       "Kilometers_Driven       0\n",
       "Fuel_Type               0\n",
       "Transmission            0\n",
       "Owner_Type              0\n",
       "Mileage                 2\n",
       "Engine                 46\n",
       "Power                  46\n",
       "Seats                   0\n",
       "New_Price            6247\n",
       "Price                1234\n",
       "dtype: int64"
      ]
     },
     "execution_count": 27,
     "metadata": {},
     "output_type": "execute_result"
    }
   ],
   "source": [
    "data.isnull().sum()"
   ]
  },
  {
   "cell_type": "code",
   "execution_count": 28,
   "metadata": {},
   "outputs": [],
   "source": [
    "data['Mileage'].dropna(inplace = True)"
   ]
  },
  {
   "cell_type": "code",
   "execution_count": 29,
   "metadata": {},
   "outputs": [
    {
     "data": {
      "text/plain": [
       "2"
      ]
     },
     "execution_count": 29,
     "metadata": {},
     "output_type": "execute_result"
    }
   ],
   "source": [
    "data['Mileage'].isnull().sum()"
   ]
  },
  {
   "cell_type": "code",
   "execution_count": 32,
   "metadata": {},
   "outputs": [
    {
     "data": {
      "text/plain": [
       "dtype('O')"
      ]
     },
     "execution_count": 32,
     "metadata": {},
     "output_type": "execute_result"
    }
   ],
   "source": [
    "data['Engine'].dtypes"
   ]
  },
  {
   "cell_type": "code",
   "execution_count": 31,
   "metadata": {},
   "outputs": [
    {
     "name": "stdout",
     "output_type": "stream",
     "text": [
      "<class 'pandas.core.frame.DataFrame'>\n",
      "Int64Index: 7253 entries, 0 to 1233\n",
      "Data columns (total 13 columns):\n",
      " #   Column             Non-Null Count  Dtype  \n",
      "---  ------             --------------  -----  \n",
      " 0   Name               7253 non-null   object \n",
      " 1   Location           7253 non-null   object \n",
      " 2   Year               7253 non-null   int64  \n",
      " 3   Kilometers_Driven  7253 non-null   int64  \n",
      " 4   Fuel_Type          7253 non-null   object \n",
      " 5   Transmission       7253 non-null   object \n",
      " 6   Owner_Type         7253 non-null   object \n",
      " 7   Mileage            7251 non-null   object \n",
      " 8   Engine             7207 non-null   object \n",
      " 9   Power              7207 non-null   object \n",
      " 10  Seats              7253 non-null   int32  \n",
      " 11  New_Price          1006 non-null   object \n",
      " 12  Price              6019 non-null   float64\n",
      "dtypes: float64(1), int32(1), int64(2), object(9)\n",
      "memory usage: 765.0+ KB\n"
     ]
    }
   ],
   "source": [
    "data.info()"
   ]
  },
  {
   "cell_type": "code",
   "execution_count": 33,
   "metadata": {},
   "outputs": [
    {
     "name": "stdout",
     "output_type": "stream",
     "text": [
      "Shape of train data Before dropping any Row:  (7253, 13)\n",
      "Shape of train data After dropping Rows with NULL values in Mileage:  (7251, 13)\n",
      "Shape of train data After dropping Rows with NULL values in Engine :  (7205, 13)\n",
      "Shape of train data After dropping Rows with NULL values in Power  :  (7205, 13)\n"
     ]
    }
   ],
   "source": [
    "print(\"Shape of train data Before dropping any Row: \",data.shape)\n",
    "data = data[data['Mileage'].notna()]\n",
    "print(\"Shape of train data After dropping Rows with NULL values in Mileage: \",data.shape)\n",
    "data = data[data['Engine'].notna()]\n",
    "print(\"Shape of train data After dropping Rows with NULL values in Engine : \",data.shape)\n",
    "data = data[data['Power'].notna()]\n",
    "print(\"Shape of train data After dropping Rows with NULL values in Power  : \",data.shape)\n"
   ]
  },
  {
   "cell_type": "code",
   "execution_count": 34,
   "metadata": {},
   "outputs": [],
   "source": [
    "data = data.reset_index(drop = True)"
   ]
  },
  {
   "cell_type": "code",
   "execution_count": 37,
   "metadata": {},
   "outputs": [
    {
     "data": {
      "text/plain": [
       "7205"
      ]
     },
     "execution_count": 37,
     "metadata": {},
     "output_type": "execute_result"
    }
   ],
   "source": [
    "data.shape[0]"
   ]
  },
  {
   "cell_type": "code",
   "execution_count": 38,
   "metadata": {},
   "outputs": [],
   "source": [
    "for i in range(data.shape[0]):\n",
    "    data.at[i, 'Company'] = data['Name'][i].split()[0]\n",
    "    data.at[i, 'Mileage(km/kg)'] = data['Mileage'][i].split()[0]\n",
    "    data.at[i, 'Engine(CC)'] = data['Engine'][i].split()[0]\n",
    "    data.at[i, 'Power(bhp)'] = data['Power'][i].split()[0]"
   ]
  },
  {
   "cell_type": "code",
   "execution_count": 39,
   "metadata": {},
   "outputs": [
    {
     "name": "stdout",
     "output_type": "stream",
     "text": [
      "<class 'pandas.core.frame.DataFrame'>\n",
      "RangeIndex: 7205 entries, 0 to 7204\n",
      "Data columns (total 17 columns):\n",
      " #   Column             Non-Null Count  Dtype  \n",
      "---  ------             --------------  -----  \n",
      " 0   Name               7205 non-null   object \n",
      " 1   Location           7205 non-null   object \n",
      " 2   Year               7205 non-null   int64  \n",
      " 3   Kilometers_Driven  7205 non-null   int64  \n",
      " 4   Fuel_Type          7205 non-null   object \n",
      " 5   Transmission       7205 non-null   object \n",
      " 6   Owner_Type         7205 non-null   object \n",
      " 7   Mileage            7205 non-null   object \n",
      " 8   Engine             7205 non-null   object \n",
      " 9   Power              7205 non-null   object \n",
      " 10  Seats              7205 non-null   int32  \n",
      " 11  New_Price          1005 non-null   object \n",
      " 12  Price              5981 non-null   float64\n",
      " 13  Company            7205 non-null   object \n",
      " 14  Mileage(km/kg)     7205 non-null   object \n",
      " 15  Engine(CC)         7205 non-null   object \n",
      " 16  Power(bhp)         7205 non-null   object \n",
      "dtypes: float64(1), int32(1), int64(2), object(13)\n",
      "memory usage: 928.9+ KB\n"
     ]
    }
   ],
   "source": [
    "data.info()"
   ]
  },
  {
   "cell_type": "code",
   "execution_count": 40,
   "metadata": {},
   "outputs": [
    {
     "data": {
      "text/plain": [
       "Index(['Name', 'Location', 'Year', 'Kilometers_Driven', 'Fuel_Type',\n",
       "       'Transmission', 'Owner_Type', 'Mileage', 'Engine', 'Power', 'Seats',\n",
       "       'New_Price', 'Price', 'Company', 'Mileage(km/kg)', 'Engine(CC)',\n",
       "       'Power(bhp)'],\n",
       "      dtype='object')"
      ]
     },
     "execution_count": 40,
     "metadata": {},
     "output_type": "execute_result"
    }
   ],
   "source": [
    "data.columns\n"
   ]
  },
  {
   "cell_type": "code",
   "execution_count": 42,
   "metadata": {},
   "outputs": [],
   "source": [
    "data['Mileage(km/kg)'] = data['Mileage(km/kg)'].astype(float)\n",
    "data['Engine(CC)'] = data['Engine(CC)'].astype(float)\n"
   ]
  },
  {
   "cell_type": "code",
   "execution_count": 47,
   "metadata": {},
   "outputs": [
    {
     "name": "stdout",
     "output_type": "stream",
     "text": [
      "<class 'pandas.core.frame.DataFrame'>\n",
      "RangeIndex: 7205 entries, 0 to 7204\n",
      "Data columns (total 17 columns):\n",
      " #   Column             Non-Null Count  Dtype  \n",
      "---  ------             --------------  -----  \n",
      " 0   Name               7205 non-null   object \n",
      " 1   Location           7205 non-null   object \n",
      " 2   Year               7205 non-null   int64  \n",
      " 3   Kilometers_Driven  7205 non-null   int64  \n",
      " 4   Fuel_Type          7205 non-null   object \n",
      " 5   Transmission       7205 non-null   object \n",
      " 6   Owner_Type         7205 non-null   object \n",
      " 7   Mileage            7205 non-null   object \n",
      " 8   Engine             7205 non-null   object \n",
      " 9   Power              7205 non-null   object \n",
      " 10  Seats              7205 non-null   int32  \n",
      " 11  New_Price          1005 non-null   object \n",
      " 12  Price              5981 non-null   float64\n",
      " 13  Company            7205 non-null   object \n",
      " 14  Mileage(km/kg)     7205 non-null   float64\n",
      " 15  Engine(CC)         7205 non-null   float64\n",
      " 16  Power(bhp)         7205 non-null   object \n",
      "dtypes: float64(3), int32(1), int64(2), object(11)\n",
      "memory usage: 928.9+ KB\n"
     ]
    }
   ],
   "source": [
    "data.info()"
   ]
  },
  {
   "cell_type": "code",
   "execution_count": 45,
   "metadata": {},
   "outputs": [
    {
     "data": {
      "text/plain": [
       "0"
      ]
     },
     "execution_count": 45,
     "metadata": {},
     "output_type": "execute_result"
    }
   ],
   "source": [
    "data['Power(bhp)'].isnull().sum()"
   ]
  },
  {
   "cell_type": "code",
   "execution_count": 49,
   "metadata": {},
   "outputs": [
    {
     "name": "stdout",
     "output_type": "stream",
     "text": [
      "Y\n",
      "129\n",
      "[76, 79, 89, 120, 143, 225, 243, 260, 305, 306, 384, 422, 426, 441, 470, 573, 629, 645, 646, 736, 745, 825, 911, 922, 930, 1064, 1139, 1149, 1267, 1314, 1339, 1381, 1412, 1547, 1570, 1641, 1664, 1849, 1991, 2045, 2120, 2154, 2252, 2256, 2294, 2330, 2356, 2380, 2428, 2437, 2484, 2488, 2514, 2564, 2582, 2619, 2624, 2871, 3013, 3041, 3084, 3169, 3227, 3269, 3417, 3494, 3509, 3565, 3604, 3614, 3621, 3645, 3709, 3776, 3857, 3873, 3905, 3974, 4051, 4054, 4323, 4326, 4598, 4677, 4681, 4711, 4797, 4853, 4867, 4919, 5029, 5083, 5191, 5388, 5400, 5420, 5491, 5495, 5609, 5717, 5721, 5823, 5835, 5855, 5887, 5905, 5947, 5984, 6054, 6102, 6123, 6171, 6177, 6239, 6347, 6389, 6400, 6406, 6415, 6535, 6550, 6584, 6651, 6677, 6844, 6849, 6899, 7044, 7097]\n"
     ]
    }
   ],
   "source": [
    "x = 'n'\n",
    "count = 0\n",
    "position = []\n",
    "for i in range(data.shape[0]):\n",
    "    if data['Power(bhp)'][i]=='null':\n",
    "        x = 'Y'\n",
    "        count = count + 1\n",
    "        position.append(i)\n",
    "print(x)\n",
    "print(count)\n",
    "print(position)"
   ]
  },
  {
   "cell_type": "code",
   "execution_count": 50,
   "metadata": {},
   "outputs": [],
   "source": [
    "data = data.drop(data.index[position])\n",
    "_data = data.reset_index(drop=True)"
   ]
  },
  {
   "cell_type": "code",
   "execution_count": 51,
   "metadata": {},
   "outputs": [
    {
     "data": {
      "text/plain": [
       "(7076, 17)"
      ]
     },
     "execution_count": 51,
     "metadata": {},
     "output_type": "execute_result"
    }
   ],
   "source": [
    "data.shape"
   ]
  },
  {
   "cell_type": "code",
   "execution_count": 60,
   "metadata": {},
   "outputs": [
    {
     "data": {
      "text/plain": [
       "Name                    0\n",
       "Location                0\n",
       "Year                    0\n",
       "Kilometers_Driven       0\n",
       "Fuel_Type               0\n",
       "Transmission            0\n",
       "Owner_Type              0\n",
       "Seats                   0\n",
       "New_Price            6071\n",
       "Price                1202\n",
       "Company                 0\n",
       "Mileage(km/kg)          0\n",
       "Engine(CC)              0\n",
       "Power(bhp)              0\n",
       "New_car_Price        7062\n",
       "dtype: int64"
      ]
     },
     "execution_count": 60,
     "metadata": {},
     "output_type": "execute_result"
    }
   ],
   "source": [
    "data.isnull().sum()"
   ]
  },
  {
   "cell_type": "code",
   "execution_count": 62,
   "metadata": {},
   "outputs": [
    {
     "ename": "KeyError",
     "evalue": "\"['Mileage'] not found in axis\"",
     "output_type": "error",
     "traceback": [
      "\u001b[1;31m---------------------------------------------------------------------------\u001b[0m",
      "\u001b[1;31mKeyError\u001b[0m                                  Traceback (most recent call last)",
      "\u001b[1;32m<ipython-input-62-487014474ad5>\u001b[0m in \u001b[0;36m<module>\u001b[1;34m\u001b[0m\n\u001b[1;32m----> 1\u001b[1;33m \u001b[0mdata\u001b[0m\u001b[1;33m.\u001b[0m\u001b[0mdrop\u001b[0m\u001b[1;33m(\u001b[0m\u001b[1;33m[\u001b[0m\u001b[1;34m\"Mileage\"\u001b[0m\u001b[1;33m]\u001b[0m\u001b[1;33m,\u001b[0m\u001b[0maxis\u001b[0m\u001b[1;33m=\u001b[0m\u001b[1;36m1\u001b[0m\u001b[1;33m,\u001b[0m\u001b[0minplace\u001b[0m\u001b[1;33m=\u001b[0m\u001b[1;32mTrue\u001b[0m\u001b[1;33m)\u001b[0m\u001b[1;33m\u001b[0m\u001b[1;33m\u001b[0m\u001b[0m\n\u001b[0m\u001b[0;32m      2\u001b[0m \u001b[0mdata\u001b[0m\u001b[1;33m.\u001b[0m\u001b[0mdrop\u001b[0m\u001b[1;33m(\u001b[0m\u001b[1;33m[\u001b[0m\u001b[1;34m\"Engine\"\u001b[0m\u001b[1;33m]\u001b[0m\u001b[1;33m,\u001b[0m\u001b[0maxis\u001b[0m\u001b[1;33m=\u001b[0m\u001b[1;36m1\u001b[0m\u001b[1;33m,\u001b[0m\u001b[0minplace\u001b[0m\u001b[1;33m=\u001b[0m\u001b[1;32mTrue\u001b[0m\u001b[1;33m)\u001b[0m\u001b[1;33m\u001b[0m\u001b[1;33m\u001b[0m\u001b[0m\n\u001b[0;32m      3\u001b[0m \u001b[0mdata\u001b[0m\u001b[1;33m.\u001b[0m\u001b[0mdrop\u001b[0m\u001b[1;33m(\u001b[0m\u001b[1;33m[\u001b[0m\u001b[1;34m\"Power\"\u001b[0m\u001b[1;33m]\u001b[0m\u001b[1;33m,\u001b[0m\u001b[0maxis\u001b[0m\u001b[1;33m=\u001b[0m\u001b[1;36m1\u001b[0m\u001b[1;33m,\u001b[0m\u001b[0minplace\u001b[0m\u001b[1;33m=\u001b[0m\u001b[1;32mTrue\u001b[0m\u001b[1;33m)\u001b[0m\u001b[1;33m\u001b[0m\u001b[1;33m\u001b[0m\u001b[0m\n\u001b[0;32m      4\u001b[0m \u001b[0mdata\u001b[0m\u001b[1;33m.\u001b[0m\u001b[0mdrop\u001b[0m\u001b[1;33m(\u001b[0m\u001b[1;33m[\u001b[0m\u001b[1;34m\"New_car_Price\"\u001b[0m\u001b[1;33m]\u001b[0m\u001b[1;33m,\u001b[0m\u001b[0maxis\u001b[0m\u001b[1;33m=\u001b[0m\u001b[1;36m1\u001b[0m\u001b[1;33m,\u001b[0m\u001b[0minplace\u001b[0m\u001b[1;33m=\u001b[0m\u001b[1;32mTrue\u001b[0m\u001b[1;33m)\u001b[0m\u001b[1;33m\u001b[0m\u001b[1;33m\u001b[0m\u001b[0m\n",
      "\u001b[1;32m~\\anaconda3\\lib\\site-packages\\pandas\\core\\frame.py\u001b[0m in \u001b[0;36mdrop\u001b[1;34m(self, labels, axis, index, columns, level, inplace, errors)\u001b[0m\n\u001b[0;32m   4161\u001b[0m                 \u001b[0mweight\u001b[0m  \u001b[1;36m1.0\u001b[0m     \u001b[1;36m0.8\u001b[0m\u001b[1;33m\u001b[0m\u001b[1;33m\u001b[0m\u001b[0m\n\u001b[0;32m   4162\u001b[0m         \"\"\"\n\u001b[1;32m-> 4163\u001b[1;33m         return super().drop(\n\u001b[0m\u001b[0;32m   4164\u001b[0m             \u001b[0mlabels\u001b[0m\u001b[1;33m=\u001b[0m\u001b[0mlabels\u001b[0m\u001b[1;33m,\u001b[0m\u001b[1;33m\u001b[0m\u001b[1;33m\u001b[0m\u001b[0m\n\u001b[0;32m   4165\u001b[0m             \u001b[0maxis\u001b[0m\u001b[1;33m=\u001b[0m\u001b[0maxis\u001b[0m\u001b[1;33m,\u001b[0m\u001b[1;33m\u001b[0m\u001b[1;33m\u001b[0m\u001b[0m\n",
      "\u001b[1;32m~\\anaconda3\\lib\\site-packages\\pandas\\core\\generic.py\u001b[0m in \u001b[0;36mdrop\u001b[1;34m(self, labels, axis, index, columns, level, inplace, errors)\u001b[0m\n\u001b[0;32m   3885\u001b[0m         \u001b[1;32mfor\u001b[0m \u001b[0maxis\u001b[0m\u001b[1;33m,\u001b[0m \u001b[0mlabels\u001b[0m \u001b[1;32min\u001b[0m \u001b[0maxes\u001b[0m\u001b[1;33m.\u001b[0m\u001b[0mitems\u001b[0m\u001b[1;33m(\u001b[0m\u001b[1;33m)\u001b[0m\u001b[1;33m:\u001b[0m\u001b[1;33m\u001b[0m\u001b[1;33m\u001b[0m\u001b[0m\n\u001b[0;32m   3886\u001b[0m             \u001b[1;32mif\u001b[0m \u001b[0mlabels\u001b[0m \u001b[1;32mis\u001b[0m \u001b[1;32mnot\u001b[0m \u001b[1;32mNone\u001b[0m\u001b[1;33m:\u001b[0m\u001b[1;33m\u001b[0m\u001b[1;33m\u001b[0m\u001b[0m\n\u001b[1;32m-> 3887\u001b[1;33m                 \u001b[0mobj\u001b[0m \u001b[1;33m=\u001b[0m \u001b[0mobj\u001b[0m\u001b[1;33m.\u001b[0m\u001b[0m_drop_axis\u001b[0m\u001b[1;33m(\u001b[0m\u001b[0mlabels\u001b[0m\u001b[1;33m,\u001b[0m \u001b[0maxis\u001b[0m\u001b[1;33m,\u001b[0m \u001b[0mlevel\u001b[0m\u001b[1;33m=\u001b[0m\u001b[0mlevel\u001b[0m\u001b[1;33m,\u001b[0m \u001b[0merrors\u001b[0m\u001b[1;33m=\u001b[0m\u001b[0merrors\u001b[0m\u001b[1;33m)\u001b[0m\u001b[1;33m\u001b[0m\u001b[1;33m\u001b[0m\u001b[0m\n\u001b[0m\u001b[0;32m   3888\u001b[0m \u001b[1;33m\u001b[0m\u001b[0m\n\u001b[0;32m   3889\u001b[0m         \u001b[1;32mif\u001b[0m \u001b[0minplace\u001b[0m\u001b[1;33m:\u001b[0m\u001b[1;33m\u001b[0m\u001b[1;33m\u001b[0m\u001b[0m\n",
      "\u001b[1;32m~\\anaconda3\\lib\\site-packages\\pandas\\core\\generic.py\u001b[0m in \u001b[0;36m_drop_axis\u001b[1;34m(self, labels, axis, level, errors)\u001b[0m\n\u001b[0;32m   3919\u001b[0m                 \u001b[0mnew_axis\u001b[0m \u001b[1;33m=\u001b[0m \u001b[0maxis\u001b[0m\u001b[1;33m.\u001b[0m\u001b[0mdrop\u001b[0m\u001b[1;33m(\u001b[0m\u001b[0mlabels\u001b[0m\u001b[1;33m,\u001b[0m \u001b[0mlevel\u001b[0m\u001b[1;33m=\u001b[0m\u001b[0mlevel\u001b[0m\u001b[1;33m,\u001b[0m \u001b[0merrors\u001b[0m\u001b[1;33m=\u001b[0m\u001b[0merrors\u001b[0m\u001b[1;33m)\u001b[0m\u001b[1;33m\u001b[0m\u001b[1;33m\u001b[0m\u001b[0m\n\u001b[0;32m   3920\u001b[0m             \u001b[1;32melse\u001b[0m\u001b[1;33m:\u001b[0m\u001b[1;33m\u001b[0m\u001b[1;33m\u001b[0m\u001b[0m\n\u001b[1;32m-> 3921\u001b[1;33m                 \u001b[0mnew_axis\u001b[0m \u001b[1;33m=\u001b[0m \u001b[0maxis\u001b[0m\u001b[1;33m.\u001b[0m\u001b[0mdrop\u001b[0m\u001b[1;33m(\u001b[0m\u001b[0mlabels\u001b[0m\u001b[1;33m,\u001b[0m \u001b[0merrors\u001b[0m\u001b[1;33m=\u001b[0m\u001b[0merrors\u001b[0m\u001b[1;33m)\u001b[0m\u001b[1;33m\u001b[0m\u001b[1;33m\u001b[0m\u001b[0m\n\u001b[0m\u001b[0;32m   3922\u001b[0m             \u001b[0mresult\u001b[0m \u001b[1;33m=\u001b[0m \u001b[0mself\u001b[0m\u001b[1;33m.\u001b[0m\u001b[0mreindex\u001b[0m\u001b[1;33m(\u001b[0m\u001b[1;33m**\u001b[0m\u001b[1;33m{\u001b[0m\u001b[0maxis_name\u001b[0m\u001b[1;33m:\u001b[0m \u001b[0mnew_axis\u001b[0m\u001b[1;33m}\u001b[0m\u001b[1;33m)\u001b[0m\u001b[1;33m\u001b[0m\u001b[1;33m\u001b[0m\u001b[0m\n\u001b[0;32m   3923\u001b[0m \u001b[1;33m\u001b[0m\u001b[0m\n",
      "\u001b[1;32m~\\anaconda3\\lib\\site-packages\\pandas\\core\\indexes\\base.py\u001b[0m in \u001b[0;36mdrop\u001b[1;34m(self, labels, errors)\u001b[0m\n\u001b[0;32m   5280\u001b[0m         \u001b[1;32mif\u001b[0m \u001b[0mmask\u001b[0m\u001b[1;33m.\u001b[0m\u001b[0many\u001b[0m\u001b[1;33m(\u001b[0m\u001b[1;33m)\u001b[0m\u001b[1;33m:\u001b[0m\u001b[1;33m\u001b[0m\u001b[1;33m\u001b[0m\u001b[0m\n\u001b[0;32m   5281\u001b[0m             \u001b[1;32mif\u001b[0m \u001b[0merrors\u001b[0m \u001b[1;33m!=\u001b[0m \u001b[1;34m\"ignore\"\u001b[0m\u001b[1;33m:\u001b[0m\u001b[1;33m\u001b[0m\u001b[1;33m\u001b[0m\u001b[0m\n\u001b[1;32m-> 5282\u001b[1;33m                 \u001b[1;32mraise\u001b[0m \u001b[0mKeyError\u001b[0m\u001b[1;33m(\u001b[0m\u001b[1;34mf\"{labels[mask]} not found in axis\"\u001b[0m\u001b[1;33m)\u001b[0m\u001b[1;33m\u001b[0m\u001b[1;33m\u001b[0m\u001b[0m\n\u001b[0m\u001b[0;32m   5283\u001b[0m             \u001b[0mindexer\u001b[0m \u001b[1;33m=\u001b[0m \u001b[0mindexer\u001b[0m\u001b[1;33m[\u001b[0m\u001b[1;33m~\u001b[0m\u001b[0mmask\u001b[0m\u001b[1;33m]\u001b[0m\u001b[1;33m\u001b[0m\u001b[1;33m\u001b[0m\u001b[0m\n\u001b[0;32m   5284\u001b[0m         \u001b[1;32mreturn\u001b[0m \u001b[0mself\u001b[0m\u001b[1;33m.\u001b[0m\u001b[0mdelete\u001b[0m\u001b[1;33m(\u001b[0m\u001b[0mindexer\u001b[0m\u001b[1;33m)\u001b[0m\u001b[1;33m\u001b[0m\u001b[1;33m\u001b[0m\u001b[0m\n",
      "\u001b[1;31mKeyError\u001b[0m: \"['Mileage'] not found in axis\""
     ]
    }
   ],
   "source": [
    "\n",
    "data.drop([\"Mileage\"],axis=1,inplace=True)\n",
    "data.drop([\"Engine\"],axis=1,inplace=True)\n",
    "data.drop([\"Power\"],axis=1,inplace=True)\n"
   ]
  },
  {
   "cell_type": "code",
   "execution_count": 68,
   "metadata": {},
   "outputs": [],
   "source": [
    "data.drop([\"New_car_Price\"],axis=1,inplace=True)"
   ]
  },
  {
   "cell_type": "code",
   "execution_count": 69,
   "metadata": {},
   "outputs": [
    {
     "name": "stdout",
     "output_type": "stream",
     "text": [
      "<class 'pandas.core.frame.DataFrame'>\n",
      "Int64Index: 7076 entries, 0 to 7204\n",
      "Data columns (total 14 columns):\n",
      " #   Column             Non-Null Count  Dtype  \n",
      "---  ------             --------------  -----  \n",
      " 0   Name               7076 non-null   object \n",
      " 1   Location           7076 non-null   object \n",
      " 2   Year               7076 non-null   int64  \n",
      " 3   Kilometers_Driven  7076 non-null   int64  \n",
      " 4   Fuel_Type          7076 non-null   object \n",
      " 5   Transmission       7076 non-null   object \n",
      " 6   Owner_Type         7076 non-null   object \n",
      " 7   Seats              7076 non-null   int32  \n",
      " 8   New_Price          1005 non-null   object \n",
      " 9   Price              5874 non-null   float64\n",
      " 10  Company            7076 non-null   object \n",
      " 11  Mileage(km/kg)     7076 non-null   float64\n",
      " 12  Engine(CC)         7076 non-null   float64\n",
      " 13  Power(bhp)         7076 non-null   object \n",
      "dtypes: float64(3), int32(1), int64(2), object(8)\n",
      "memory usage: 1.1+ MB\n"
     ]
    }
   ],
   "source": [
    "data.info()"
   ]
  },
  {
   "cell_type": "code",
   "execution_count": 70,
   "metadata": {},
   "outputs": [
    {
     "name": "stdout",
     "output_type": "stream",
     "text": [
      "the Shape of Train Dataset (5874, 14)\n"
     ]
    },
    {
     "data": {
      "text/html": [
       "<div>\n",
       "<style scoped>\n",
       "    .dataframe tbody tr th:only-of-type {\n",
       "        vertical-align: middle;\n",
       "    }\n",
       "\n",
       "    .dataframe tbody tr th {\n",
       "        vertical-align: top;\n",
       "    }\n",
       "\n",
       "    .dataframe thead th {\n",
       "        text-align: right;\n",
       "    }\n",
       "</style>\n",
       "<table border=\"1\" class=\"dataframe\">\n",
       "  <thead>\n",
       "    <tr style=\"text-align: right;\">\n",
       "      <th></th>\n",
       "      <th>Name</th>\n",
       "      <th>Location</th>\n",
       "      <th>Year</th>\n",
       "      <th>Kilometers_Driven</th>\n",
       "      <th>Fuel_Type</th>\n",
       "      <th>Transmission</th>\n",
       "      <th>Owner_Type</th>\n",
       "      <th>Seats</th>\n",
       "      <th>New_Price</th>\n",
       "      <th>Price</th>\n",
       "      <th>Company</th>\n",
       "      <th>Mileage(km/kg)</th>\n",
       "      <th>Engine(CC)</th>\n",
       "      <th>Power(bhp)</th>\n",
       "    </tr>\n",
       "  </thead>\n",
       "  <tbody>\n",
       "    <tr>\n",
       "      <th>0</th>\n",
       "      <td>Maruti Wagon R LXI CNG</td>\n",
       "      <td>Mumbai</td>\n",
       "      <td>2010</td>\n",
       "      <td>72000</td>\n",
       "      <td>CNG</td>\n",
       "      <td>Manual</td>\n",
       "      <td>First</td>\n",
       "      <td>5</td>\n",
       "      <td>NaN</td>\n",
       "      <td>1.75</td>\n",
       "      <td>Maruti</td>\n",
       "      <td>26.60</td>\n",
       "      <td>998.0</td>\n",
       "      <td>58.16</td>\n",
       "    </tr>\n",
       "    <tr>\n",
       "      <th>1</th>\n",
       "      <td>Hyundai Creta 1.6 CRDi SX Option</td>\n",
       "      <td>Pune</td>\n",
       "      <td>2015</td>\n",
       "      <td>41000</td>\n",
       "      <td>Diesel</td>\n",
       "      <td>Manual</td>\n",
       "      <td>First</td>\n",
       "      <td>5</td>\n",
       "      <td>NaN</td>\n",
       "      <td>12.50</td>\n",
       "      <td>Hyundai</td>\n",
       "      <td>19.67</td>\n",
       "      <td>1582.0</td>\n",
       "      <td>126.2</td>\n",
       "    </tr>\n",
       "    <tr>\n",
       "      <th>2</th>\n",
       "      <td>Honda Jazz V</td>\n",
       "      <td>Chennai</td>\n",
       "      <td>2011</td>\n",
       "      <td>46000</td>\n",
       "      <td>Petrol</td>\n",
       "      <td>Manual</td>\n",
       "      <td>First</td>\n",
       "      <td>5</td>\n",
       "      <td>8.61 Lakh</td>\n",
       "      <td>4.50</td>\n",
       "      <td>Honda</td>\n",
       "      <td>18.20</td>\n",
       "      <td>1199.0</td>\n",
       "      <td>88.7</td>\n",
       "    </tr>\n",
       "    <tr>\n",
       "      <th>3</th>\n",
       "      <td>Maruti Ertiga VDI</td>\n",
       "      <td>Chennai</td>\n",
       "      <td>2012</td>\n",
       "      <td>87000</td>\n",
       "      <td>Diesel</td>\n",
       "      <td>Manual</td>\n",
       "      <td>First</td>\n",
       "      <td>7</td>\n",
       "      <td>NaN</td>\n",
       "      <td>6.00</td>\n",
       "      <td>Maruti</td>\n",
       "      <td>20.77</td>\n",
       "      <td>1248.0</td>\n",
       "      <td>88.76</td>\n",
       "    </tr>\n",
       "    <tr>\n",
       "      <th>4</th>\n",
       "      <td>Audi A4 New 2.0 TDI Multitronic</td>\n",
       "      <td>Coimbatore</td>\n",
       "      <td>2013</td>\n",
       "      <td>40670</td>\n",
       "      <td>Diesel</td>\n",
       "      <td>Automatic</td>\n",
       "      <td>Second</td>\n",
       "      <td>5</td>\n",
       "      <td>NaN</td>\n",
       "      <td>17.74</td>\n",
       "      <td>Audi</td>\n",
       "      <td>15.20</td>\n",
       "      <td>1968.0</td>\n",
       "      <td>140.8</td>\n",
       "    </tr>\n",
       "  </tbody>\n",
       "</table>\n",
       "</div>"
      ],
      "text/plain": [
       "                               Name    Location  Year  Kilometers_Driven  \\\n",
       "0            Maruti Wagon R LXI CNG      Mumbai  2010              72000   \n",
       "1  Hyundai Creta 1.6 CRDi SX Option        Pune  2015              41000   \n",
       "2                      Honda Jazz V     Chennai  2011              46000   \n",
       "3                 Maruti Ertiga VDI     Chennai  2012              87000   \n",
       "4   Audi A4 New 2.0 TDI Multitronic  Coimbatore  2013              40670   \n",
       "\n",
       "  Fuel_Type Transmission Owner_Type  Seats  New_Price  Price  Company  \\\n",
       "0       CNG       Manual      First      5        NaN   1.75   Maruti   \n",
       "1    Diesel       Manual      First      5        NaN  12.50  Hyundai   \n",
       "2    Petrol       Manual      First      5  8.61 Lakh   4.50    Honda   \n",
       "3    Diesel       Manual      First      7        NaN   6.00   Maruti   \n",
       "4    Diesel    Automatic     Second      5        NaN  17.74     Audi   \n",
       "\n",
       "   Mileage(km/kg)  Engine(CC) Power(bhp)  \n",
       "0           26.60       998.0      58.16  \n",
       "1           19.67      1582.0      126.2  \n",
       "2           18.20      1199.0       88.7  \n",
       "3           20.77      1248.0      88.76  \n",
       "4           15.20      1968.0      140.8  "
      ]
     },
     "execution_count": 70,
     "metadata": {},
     "output_type": "execute_result"
    }
   ],
   "source": [
    "train = data[data.Price.notnull()]\n",
    "print('the Shape of Train Dataset',train.shape)\n",
    "train.set_index(np.arange(train.shape[0]),inplace=True)\n",
    "train.head()"
   ]
  },
  {
   "cell_type": "code",
   "execution_count": 71,
   "metadata": {},
   "outputs": [
    {
     "name": "stdout",
     "output_type": "stream",
     "text": [
      "The Shape of Test Dataset (1202, 14)\n"
     ]
    },
    {
     "data": {
      "text/html": [
       "<div>\n",
       "<style scoped>\n",
       "    .dataframe tbody tr th:only-of-type {\n",
       "        vertical-align: middle;\n",
       "    }\n",
       "\n",
       "    .dataframe tbody tr th {\n",
       "        vertical-align: top;\n",
       "    }\n",
       "\n",
       "    .dataframe thead th {\n",
       "        text-align: right;\n",
       "    }\n",
       "</style>\n",
       "<table border=\"1\" class=\"dataframe\">\n",
       "  <thead>\n",
       "    <tr style=\"text-align: right;\">\n",
       "      <th></th>\n",
       "      <th>Name</th>\n",
       "      <th>Location</th>\n",
       "      <th>Year</th>\n",
       "      <th>Kilometers_Driven</th>\n",
       "      <th>Fuel_Type</th>\n",
       "      <th>Transmission</th>\n",
       "      <th>Owner_Type</th>\n",
       "      <th>Seats</th>\n",
       "      <th>New_Price</th>\n",
       "      <th>Price</th>\n",
       "      <th>Company</th>\n",
       "      <th>Mileage(km/kg)</th>\n",
       "      <th>Engine(CC)</th>\n",
       "      <th>Power(bhp)</th>\n",
       "    </tr>\n",
       "  </thead>\n",
       "  <tbody>\n",
       "    <tr>\n",
       "      <th>0</th>\n",
       "      <td>Maruti Alto K10 LXI CNG</td>\n",
       "      <td>Delhi</td>\n",
       "      <td>2014</td>\n",
       "      <td>40929</td>\n",
       "      <td>CNG</td>\n",
       "      <td>Manual</td>\n",
       "      <td>First</td>\n",
       "      <td>4</td>\n",
       "      <td>NaN</td>\n",
       "      <td>NaN</td>\n",
       "      <td>Maruti</td>\n",
       "      <td>32.26</td>\n",
       "      <td>998.0</td>\n",
       "      <td>58.2</td>\n",
       "    </tr>\n",
       "    <tr>\n",
       "      <th>1</th>\n",
       "      <td>Maruti Alto 800 2016-2019 LXI</td>\n",
       "      <td>Coimbatore</td>\n",
       "      <td>2013</td>\n",
       "      <td>54493</td>\n",
       "      <td>Petrol</td>\n",
       "      <td>Manual</td>\n",
       "      <td>Second</td>\n",
       "      <td>5</td>\n",
       "      <td>NaN</td>\n",
       "      <td>NaN</td>\n",
       "      <td>Maruti</td>\n",
       "      <td>24.70</td>\n",
       "      <td>796.0</td>\n",
       "      <td>47.3</td>\n",
       "    </tr>\n",
       "    <tr>\n",
       "      <th>2</th>\n",
       "      <td>Toyota Innova Crysta Touring Sport 2.4 MT</td>\n",
       "      <td>Mumbai</td>\n",
       "      <td>2017</td>\n",
       "      <td>34000</td>\n",
       "      <td>Diesel</td>\n",
       "      <td>Manual</td>\n",
       "      <td>First</td>\n",
       "      <td>7</td>\n",
       "      <td>25.27 Lakh</td>\n",
       "      <td>NaN</td>\n",
       "      <td>Toyota</td>\n",
       "      <td>13.68</td>\n",
       "      <td>2393.0</td>\n",
       "      <td>147.8</td>\n",
       "    </tr>\n",
       "    <tr>\n",
       "      <th>3</th>\n",
       "      <td>Hyundai i20 Magna</td>\n",
       "      <td>Mumbai</td>\n",
       "      <td>2014</td>\n",
       "      <td>29000</td>\n",
       "      <td>Petrol</td>\n",
       "      <td>Manual</td>\n",
       "      <td>First</td>\n",
       "      <td>5</td>\n",
       "      <td>NaN</td>\n",
       "      <td>NaN</td>\n",
       "      <td>Hyundai</td>\n",
       "      <td>18.50</td>\n",
       "      <td>1197.0</td>\n",
       "      <td>82.85</td>\n",
       "    </tr>\n",
       "    <tr>\n",
       "      <th>4</th>\n",
       "      <td>Mahindra XUV500 W8 2WD</td>\n",
       "      <td>Coimbatore</td>\n",
       "      <td>2016</td>\n",
       "      <td>85609</td>\n",
       "      <td>Diesel</td>\n",
       "      <td>Manual</td>\n",
       "      <td>Second</td>\n",
       "      <td>7</td>\n",
       "      <td>NaN</td>\n",
       "      <td>NaN</td>\n",
       "      <td>Mahindra</td>\n",
       "      <td>16.00</td>\n",
       "      <td>2179.0</td>\n",
       "      <td>140</td>\n",
       "    </tr>\n",
       "  </tbody>\n",
       "</table>\n",
       "</div>"
      ],
      "text/plain": [
       "                                        Name    Location  Year  \\\n",
       "0                    Maruti Alto K10 LXI CNG       Delhi  2014   \n",
       "1              Maruti Alto 800 2016-2019 LXI  Coimbatore  2013   \n",
       "2  Toyota Innova Crysta Touring Sport 2.4 MT      Mumbai  2017   \n",
       "3                          Hyundai i20 Magna      Mumbai  2014   \n",
       "4                     Mahindra XUV500 W8 2WD  Coimbatore  2016   \n",
       "\n",
       "   Kilometers_Driven Fuel_Type Transmission Owner_Type  Seats   New_Price  \\\n",
       "0              40929       CNG       Manual      First      4         NaN   \n",
       "1              54493    Petrol       Manual     Second      5         NaN   \n",
       "2              34000    Diesel       Manual      First      7  25.27 Lakh   \n",
       "3              29000    Petrol       Manual      First      5         NaN   \n",
       "4              85609    Diesel       Manual     Second      7         NaN   \n",
       "\n",
       "   Price   Company  Mileage(km/kg)  Engine(CC) Power(bhp)  \n",
       "0    NaN    Maruti           32.26       998.0       58.2  \n",
       "1    NaN    Maruti           24.70       796.0       47.3  \n",
       "2    NaN    Toyota           13.68      2393.0      147.8  \n",
       "3    NaN   Hyundai           18.50      1197.0      82.85  \n",
       "4    NaN  Mahindra           16.00      2179.0        140  "
      ]
     },
     "execution_count": 71,
     "metadata": {},
     "output_type": "execute_result"
    }
   ],
   "source": [
    "test = data[data.Price.isnull()]\n",
    "print('The Shape of Test Dataset',test.shape)\n",
    "test.set_index(np.arange(test.shape[0]), inplace=True)\n",
    "test.head()"
   ]
  },
  {
   "cell_type": "code",
   "execution_count": 72,
   "metadata": {},
   "outputs": [
    {
     "name": "stdout",
     "output_type": "stream",
     "text": [
      "<class 'pandas.core.frame.DataFrame'>\n",
      "Int64Index: 5874 entries, 0 to 5873\n",
      "Data columns (total 14 columns):\n",
      " #   Column             Non-Null Count  Dtype  \n",
      "---  ------             --------------  -----  \n",
      " 0   Name               5874 non-null   object \n",
      " 1   Location           5874 non-null   object \n",
      " 2   Year               5874 non-null   int64  \n",
      " 3   Kilometers_Driven  5874 non-null   int64  \n",
      " 4   Fuel_Type          5874 non-null   object \n",
      " 5   Transmission       5874 non-null   object \n",
      " 6   Owner_Type         5874 non-null   object \n",
      " 7   Seats              5874 non-null   int32  \n",
      " 8   New_Price          823 non-null    object \n",
      " 9   Price              5874 non-null   float64\n",
      " 10  Company            5874 non-null   object \n",
      " 11  Mileage(km/kg)     5874 non-null   float64\n",
      " 12  Engine(CC)         5874 non-null   float64\n",
      " 13  Power(bhp)         5874 non-null   object \n",
      "dtypes: float64(3), int32(1), int64(2), object(8)\n",
      "memory usage: 665.4+ KB\n"
     ]
    }
   ],
   "source": [
    "train.info()"
   ]
  },
  {
   "cell_type": "code",
   "execution_count": 73,
   "metadata": {},
   "outputs": [
    {
     "name": "stdout",
     "output_type": "stream",
     "text": [
      "<class 'pandas.core.frame.DataFrame'>\n",
      "Int64Index: 1202 entries, 0 to 1201\n",
      "Data columns (total 14 columns):\n",
      " #   Column             Non-Null Count  Dtype  \n",
      "---  ------             --------------  -----  \n",
      " 0   Name               1202 non-null   object \n",
      " 1   Location           1202 non-null   object \n",
      " 2   Year               1202 non-null   int64  \n",
      " 3   Kilometers_Driven  1202 non-null   int64  \n",
      " 4   Fuel_Type          1202 non-null   object \n",
      " 5   Transmission       1202 non-null   object \n",
      " 6   Owner_Type         1202 non-null   object \n",
      " 7   Seats              1202 non-null   int32  \n",
      " 8   New_Price          182 non-null    object \n",
      " 9   Price              0 non-null      float64\n",
      " 10  Company            1202 non-null   object \n",
      " 11  Mileage(km/kg)     1202 non-null   float64\n",
      " 12  Engine(CC)         1202 non-null   float64\n",
      " 13  Power(bhp)         1202 non-null   object \n",
      "dtypes: float64(3), int32(1), int64(2), object(8)\n",
      "memory usage: 136.2+ KB\n"
     ]
    }
   ],
   "source": [
    "test.info()"
   ]
  },
  {
   "cell_type": "code",
   "execution_count": 77,
   "metadata": {},
   "outputs": [
    {
     "name": "stderr",
     "output_type": "stream",
     "text": [
      "C:\\Users\\Parikshith\\anaconda3\\lib\\site-packages\\seaborn\\distributions.py:2551: FutureWarning: `distplot` is a deprecated function and will be removed in a future version. Please adapt your code to use either `displot` (a figure-level function with similar flexibility) or `histplot` (an axes-level function for histograms).\n",
      "  warnings.warn(msg, FutureWarning)\n"
     ]
    },
    {
     "data": {
      "image/png": "[encoded data removed]",
      "text/plain": [
       "<Figure size 1440x720 with 1 Axes>"
      ]
     },
     "metadata": {
      "needs_background": "light"
     },
     "output_type": "display_data"
    }
   ],
   "source": [
    "f , ax = plt.subplots(figsize = (20,10))\n",
    "sns.distplot(train['Price'])\n",
    "plt.xlim([0,80]);"
   ]
  },
  {
   "cell_type": "code",
   "execution_count": 78,
   "metadata": {},
   "outputs": [
    {
     "data": {
      "image/png": "[encoded data removed]",
      "text/plain": [
       "<Figure size 864x576 with 1 Axes>"
      ]
     },
     "metadata": {
      "needs_background": "light"
     },
     "output_type": "display_data"
    }
   ],
   "source": [
    "var = 'Fuel_Type'\n",
    "data = pd.concat([train['Price'], train[var]], axis=1)\n",
    "f, ax = plt.subplots(figsize=(12, 8))\n",
    "fig = sns.boxplot(x=var, y=\"Price\", data=data)\n",
    "fig.axis(ymin=0, ymax=165);"
   ]
  },
  {
   "cell_type": "code",
   "execution_count": 79,
   "metadata": {},
   "outputs": [
    {
     "name": "stderr",
     "output_type": "stream",
     "text": [
      "C:\\Users\\Parikshith\\anaconda3\\lib\\site-packages\\seaborn\\categorical.py:1296: UserWarning: 21.8% of the points cannot be placed; you may want to decrease the size of the markers or use stripplot.\n",
      "  warnings.warn(msg, UserWarning)\n",
      "C:\\Users\\Parikshith\\anaconda3\\lib\\site-packages\\seaborn\\categorical.py:1296: UserWarning: 78.8% of the points cannot be placed; you may want to decrease the size of the markers or use stripplot.\n",
      "  warnings.warn(msg, UserWarning)\n",
      "C:\\Users\\Parikshith\\anaconda3\\lib\\site-packages\\seaborn\\categorical.py:1296: UserWarning: 88.0% of the points cannot be placed; you may want to decrease the size of the markers or use stripplot.\n",
      "  warnings.warn(msg, UserWarning)\n"
     ]
    },
    {
     "data": {
      "text/plain": [
       "<AxesSubplot:xlabel='Fuel_Type', ylabel='Price'>"
      ]
     },
     "execution_count": 79,
     "metadata": {},
     "output_type": "execute_result"
    },
    {
     "data": {
      "image/png": "[encoded data removed]",
      "text/plain": [
       "<Figure size 842.4x595.44 with 1 Axes>"
      ]
     },
     "metadata": {
      "needs_background": "light"
     },
     "output_type": "display_data"
    }
   ],
   "source": [
    "var = 'Fuel_Type'\n",
    "fig, ax = plt.subplots()\n",
    "fig.set_size_inches(11.7, 8.27)\n",
    "sns.swarmplot(x = var, y ='Price', data = train)"
   ]
  },
  {
   "cell_type": "code",
   "execution_count": 131,
   "metadata": {},
   "outputs": [
    {
     "data": {
      "text/plain": [
       "'Transmission'"
      ]
     },
     "execution_count": 131,
     "metadata": {},
     "output_type": "execute_result"
    }
   ],
   "source": [
    "var"
   ]
  },
  {
   "cell_type": "code",
   "execution_count": 80,
   "metadata": {},
   "outputs": [
    {
     "data": {
      "text/plain": [
       "(array([ 0,  1,  2,  3,  4,  5,  6,  7,  8,  9, 10, 11, 12, 13, 14, 15, 16,\n",
       "        17, 18, 19, 20, 21]),\n",
       " [Text(0, 0, '1998'),\n",
       "  Text(1, 0, '1999'),\n",
       "  Text(2, 0, '2000'),\n",
       "  Text(3, 0, '2001'),\n",
       "  Text(4, 0, '2002'),\n",
       "  Text(5, 0, '2003'),\n",
       "  Text(6, 0, '2004'),\n",
       "  Text(7, 0, '2005'),\n",
       "  Text(8, 0, '2006'),\n",
       "  Text(9, 0, '2007'),\n",
       "  Text(10, 0, '2008'),\n",
       "  Text(11, 0, '2009'),\n",
       "  Text(12, 0, '2010'),\n",
       "  Text(13, 0, '2011'),\n",
       "  Text(14, 0, '2012'),\n",
       "  Text(15, 0, '2013'),\n",
       "  Text(16, 0, '2014'),\n",
       "  Text(17, 0, '2015'),\n",
       "  Text(18, 0, '2016'),\n",
       "  Text(19, 0, '2017'),\n",
       "  Text(20, 0, '2018'),\n",
       "  Text(21, 0, '2019')])"
      ]
     },
     "execution_count": 80,
     "metadata": {},
     "output_type": "execute_result"
    },
    {
     "data": {
      "image/png": "[encoded data removed]",
      "text/plain": [
       "<Figure size 1440x720 with 1 Axes>"
      ]
     },
     "metadata": {
      "needs_background": "light"
     },
     "output_type": "display_data"
    }
   ],
   "source": [
    "var = 'Year'\n",
    "data = pd.concat([train['Price'], train[var]], axis=1)\n",
    "f, ax = plt.subplots(figsize=(20, 10))\n",
    "fig = sns.boxplot(x=var, y=\"Price\", data=data)\n",
    "fig.axis(ymin=0, ymax=165);\n",
    "plt.xticks(rotation=90)"
   ]
  },
  {
   "cell_type": "code",
   "execution_count": 81,
   "metadata": {},
   "outputs": [
    {
     "data": {
      "text/plain": [
       "<AxesSubplot:xlabel='Owner_Type', ylabel='Price'>"
      ]
     },
     "execution_count": 81,
     "metadata": {},
     "output_type": "execute_result"
    },
    {
     "data": {
      "image/png": "[encoded data removed]",
      "text/plain": [
       "<Figure size 842.4x595.44 with 1 Axes>"
      ]
     },
     "metadata": {
      "needs_background": "light"
     },
     "output_type": "display_data"
    }
   ],
   "source": [
    "var = 'Owner_Type'\n",
    "fig, ax = plt.subplots()\n",
    "fig.set_size_inches(11.7, 8.27)\n",
    "sns.stripplot(x = var, y ='Price', data = train) "
   ]
  },
  {
   "cell_type": "code",
   "execution_count": 82,
   "metadata": {},
   "outputs": [
    {
     "data": {
      "text/plain": [
       "<Figure size 1440x720 with 0 Axes>"
      ]
     },
     "metadata": {},
     "output_type": "display_data"
    },
    {
     "data": {
      "image/png": "[encoded data removed]",
      "text/plain": [
       "<Figure size 1152x576 with 1 Axes>"
      ]
     },
     "metadata": {
      "needs_background": "light"
     },
     "output_type": "display_data"
    }
   ],
   "source": [
    "var = \"Company\"\n",
    "plt.figure(figsize=(20, 10))\n",
    "sns.catplot(x=var, kind=\"count\", palette=\"ch:.25\", height=8, aspect=2, data=train);\n",
    "plt.xticks(rotation=90);"
   ]
  },
  {
   "cell_type": "code",
   "execution_count": 83,
   "metadata": {},
   "outputs": [
    {
     "data": {
      "text/plain": [
       "Mumbai        775\n",
       "Hyderabad     718\n",
       "Kochi         645\n",
       "Coimbatore    629\n",
       "Pune          594\n",
       "Delhi         545\n",
       "Kolkata       521\n",
       "Chennai       476\n",
       "Jaipur        403\n",
       "Bangalore     348\n",
       "Ahmedabad     220\n",
       "Name: Location, dtype: int64"
      ]
     },
     "execution_count": 83,
     "metadata": {},
     "output_type": "execute_result"
    }
   ],
   "source": [
    "var = 'Location'\n",
    "train[var].value_counts()"
   ]
  },
  {
   "cell_type": "code",
   "execution_count": 84,
   "metadata": {},
   "outputs": [
    {
     "data": {
      "text/plain": [
       "<function matplotlib.pyplot.show(close=None, block=None)>"
      ]
     },
     "execution_count": 84,
     "metadata": {},
     "output_type": "execute_result"
    },
    {
     "data": {
      "image/png": "[encoded data removed]",
      "text/plain": [
       "<Figure size 1296x432 with 1 Axes>"
      ]
     },
     "metadata": {
      "needs_background": "light"
     },
     "output_type": "display_data"
    }
   ],
   "source": [
    "sns.catplot(y='Price',x=var,data= train.sort_values('Price',ascending=False),kind=\"boxen\",height=6, aspect=3)\n",
    "plt.show"
   ]
  },
  {
   "cell_type": "code",
   "execution_count": 85,
   "metadata": {},
   "outputs": [
    {
     "name": "stdout",
     "output_type": "stream",
     "text": [
      "<class 'pandas.core.frame.DataFrame'>\n",
      "Int64Index: 5874 entries, 0 to 5873\n",
      "Data columns (total 14 columns):\n",
      " #   Column             Non-Null Count  Dtype  \n",
      "---  ------             --------------  -----  \n",
      " 0   Name               5874 non-null   object \n",
      " 1   Location           5874 non-null   object \n",
      " 2   Year               5874 non-null   int64  \n",
      " 3   Kilometers_Driven  5874 non-null   int64  \n",
      " 4   Fuel_Type          5874 non-null   object \n",
      " 5   Transmission       5874 non-null   object \n",
      " 6   Owner_Type         5874 non-null   object \n",
      " 7   Seats              5874 non-null   int32  \n",
      " 8   New_Price          823 non-null    object \n",
      " 9   Price              5874 non-null   float64\n",
      " 10  Company            5874 non-null   object \n",
      " 11  Mileage(km/kg)     5874 non-null   float64\n",
      " 12  Engine(CC)         5874 non-null   float64\n",
      " 13  Power(bhp)         5874 non-null   object \n",
      "dtypes: float64(3), int32(1), int64(2), object(8)\n",
      "memory usage: 825.4+ KB\n"
     ]
    }
   ],
   "source": [
    "train.info()"
   ]
  },
  {
   "cell_type": "code",
   "execution_count": 86,
   "metadata": {},
   "outputs": [
    {
     "data": {
      "text/html": [
       "<div>\n",
       "<style scoped>\n",
       "    .dataframe tbody tr th:only-of-type {\n",
       "        vertical-align: middle;\n",
       "    }\n",
       "\n",
       "    .dataframe tbody tr th {\n",
       "        vertical-align: top;\n",
       "    }\n",
       "\n",
       "    .dataframe thead th {\n",
       "        text-align: right;\n",
       "    }\n",
       "</style>\n",
       "<table border=\"1\" class=\"dataframe\">\n",
       "  <thead>\n",
       "    <tr style=\"text-align: right;\">\n",
       "      <th></th>\n",
       "      <th>Location_Bangalore</th>\n",
       "      <th>Location_Chennai</th>\n",
       "      <th>Location_Coimbatore</th>\n",
       "      <th>Location_Delhi</th>\n",
       "      <th>Location_Hyderabad</th>\n",
       "      <th>Location_Jaipur</th>\n",
       "      <th>Location_Kochi</th>\n",
       "      <th>Location_Kolkata</th>\n",
       "      <th>Location_Mumbai</th>\n",
       "      <th>Location_Pune</th>\n",
       "    </tr>\n",
       "  </thead>\n",
       "  <tbody>\n",
       "    <tr>\n",
       "      <th>0</th>\n",
       "      <td>0</td>\n",
       "      <td>0</td>\n",
       "      <td>0</td>\n",
       "      <td>0</td>\n",
       "      <td>0</td>\n",
       "      <td>0</td>\n",
       "      <td>0</td>\n",
       "      <td>0</td>\n",
       "      <td>1</td>\n",
       "      <td>0</td>\n",
       "    </tr>\n",
       "    <tr>\n",
       "      <th>1</th>\n",
       "      <td>0</td>\n",
       "      <td>0</td>\n",
       "      <td>0</td>\n",
       "      <td>0</td>\n",
       "      <td>0</td>\n",
       "      <td>0</td>\n",
       "      <td>0</td>\n",
       "      <td>0</td>\n",
       "      <td>0</td>\n",
       "      <td>1</td>\n",
       "    </tr>\n",
       "    <tr>\n",
       "      <th>2</th>\n",
       "      <td>0</td>\n",
       "      <td>1</td>\n",
       "      <td>0</td>\n",
       "      <td>0</td>\n",
       "      <td>0</td>\n",
       "      <td>0</td>\n",
       "      <td>0</td>\n",
       "      <td>0</td>\n",
       "      <td>0</td>\n",
       "      <td>0</td>\n",
       "    </tr>\n",
       "    <tr>\n",
       "      <th>3</th>\n",
       "      <td>0</td>\n",
       "      <td>1</td>\n",
       "      <td>0</td>\n",
       "      <td>0</td>\n",
       "      <td>0</td>\n",
       "      <td>0</td>\n",
       "      <td>0</td>\n",
       "      <td>0</td>\n",
       "      <td>0</td>\n",
       "      <td>0</td>\n",
       "    </tr>\n",
       "    <tr>\n",
       "      <th>4</th>\n",
       "      <td>0</td>\n",
       "      <td>0</td>\n",
       "      <td>1</td>\n",
       "      <td>0</td>\n",
       "      <td>0</td>\n",
       "      <td>0</td>\n",
       "      <td>0</td>\n",
       "      <td>0</td>\n",
       "      <td>0</td>\n",
       "      <td>0</td>\n",
       "    </tr>\n",
       "  </tbody>\n",
       "</table>\n",
       "</div>"
      ],
      "text/plain": [
       "   Location_Bangalore  Location_Chennai  Location_Coimbatore  Location_Delhi  \\\n",
       "0                   0                 0                    0               0   \n",
       "1                   0                 0                    0               0   \n",
       "2                   0                 1                    0               0   \n",
       "3                   0                 1                    0               0   \n",
       "4                   0                 0                    1               0   \n",
       "\n",
       "   Location_Hyderabad  Location_Jaipur  Location_Kochi  Location_Kolkata  \\\n",
       "0                   0                0               0                 0   \n",
       "1                   0                0               0                 0   \n",
       "2                   0                0               0                 0   \n",
       "3                   0                0               0                 0   \n",
       "4                   0                0               0                 0   \n",
       "\n",
       "   Location_Mumbai  Location_Pune  \n",
       "0                1              0  \n",
       "1                0              1  \n",
       "2                0              0  \n",
       "3                0              0  \n",
       "4                0              0  "
      ]
     },
     "execution_count": 86,
     "metadata": {},
     "output_type": "execute_result"
    }
   ],
   "source": [
    "Location = train[[var]]\n",
    "Location = pd.get_dummies(Location,drop_first=True)\n",
    "Location.head()"
   ]
  },
  {
   "cell_type": "code",
   "execution_count": 87,
   "metadata": {},
   "outputs": [
    {
     "name": "stdout",
     "output_type": "stream",
     "text": [
      "<class 'pandas.core.frame.DataFrame'>\n",
      "Int64Index: 5874 entries, 0 to 5873\n",
      "Data columns (total 14 columns):\n",
      " #   Column             Non-Null Count  Dtype  \n",
      "---  ------             --------------  -----  \n",
      " 0   Name               5874 non-null   object \n",
      " 1   Location           5874 non-null   object \n",
      " 2   Year               5874 non-null   int64  \n",
      " 3   Kilometers_Driven  5874 non-null   int64  \n",
      " 4   Fuel_Type          5874 non-null   object \n",
      " 5   Transmission       5874 non-null   object \n",
      " 6   Owner_Type         5874 non-null   object \n",
      " 7   Seats              5874 non-null   int32  \n",
      " 8   New_Price          823 non-null    object \n",
      " 9   Price              5874 non-null   float64\n",
      " 10  Company            5874 non-null   object \n",
      " 11  Mileage(km/kg)     5874 non-null   float64\n",
      " 12  Engine(CC)         5874 non-null   float64\n",
      " 13  Power(bhp)         5874 non-null   object \n",
      "dtypes: float64(3), int32(1), int64(2), object(8)\n",
      "memory usage: 825.4+ KB\n"
     ]
    }
   ],
   "source": [
    "train.info()"
   ]
  },
  {
   "cell_type": "code",
   "execution_count": 88,
   "metadata": {},
   "outputs": [
    {
     "data": {
      "text/plain": [
       "Diesel    3153\n",
       "Petrol    2656\n",
       "CNG         55\n",
       "LPG         10\n",
       "Name: Fuel_Type, dtype: int64"
      ]
     },
     "execution_count": 88,
     "metadata": {},
     "output_type": "execute_result"
    }
   ],
   "source": [
    "var = 'Fuel_Type'\n",
    "train[var].value_counts()"
   ]
  },
  {
   "cell_type": "code",
   "execution_count": 89,
   "metadata": {},
   "outputs": [
    {
     "data": {
      "text/plain": [
       "<function matplotlib.pyplot.show(close=None, block=None)>"
      ]
     },
     "execution_count": 89,
     "metadata": {},
     "output_type": "execute_result"
    },
    {
     "data": {
      "image/png": "[encoded data removed]",
      "text/plain": [
       "<Figure size 1296x432 with 1 Axes>"
      ]
     },
     "metadata": {
      "needs_background": "light"
     },
     "output_type": "display_data"
    }
   ],
   "source": [
    "sns.catplot(y='Price',x=var,data= train.sort_values('Price',ascending=False),kind=\"boxen\",height=6, aspect=3)\n",
    "plt.show"
   ]
  },
  {
   "cell_type": "code",
   "execution_count": 90,
   "metadata": {},
   "outputs": [
    {
     "data": {
      "text/html": [
       "<div>\n",
       "<style scoped>\n",
       "    .dataframe tbody tr th:only-of-type {\n",
       "        vertical-align: middle;\n",
       "    }\n",
       "\n",
       "    .dataframe tbody tr th {\n",
       "        vertical-align: top;\n",
       "    }\n",
       "\n",
       "    .dataframe thead th {\n",
       "        text-align: right;\n",
       "    }\n",
       "</style>\n",
       "<table border=\"1\" class=\"dataframe\">\n",
       "  <thead>\n",
       "    <tr style=\"text-align: right;\">\n",
       "      <th></th>\n",
       "      <th>Fuel_Type_Diesel</th>\n",
       "      <th>Fuel_Type_LPG</th>\n",
       "      <th>Fuel_Type_Petrol</th>\n",
       "    </tr>\n",
       "  </thead>\n",
       "  <tbody>\n",
       "    <tr>\n",
       "      <th>0</th>\n",
       "      <td>0</td>\n",
       "      <td>0</td>\n",
       "      <td>0</td>\n",
       "    </tr>\n",
       "    <tr>\n",
       "      <th>1</th>\n",
       "      <td>1</td>\n",
       "      <td>0</td>\n",
       "      <td>0</td>\n",
       "    </tr>\n",
       "    <tr>\n",
       "      <th>2</th>\n",
       "      <td>0</td>\n",
       "      <td>0</td>\n",
       "      <td>1</td>\n",
       "    </tr>\n",
       "    <tr>\n",
       "      <th>3</th>\n",
       "      <td>1</td>\n",
       "      <td>0</td>\n",
       "      <td>0</td>\n",
       "    </tr>\n",
       "    <tr>\n",
       "      <th>4</th>\n",
       "      <td>1</td>\n",
       "      <td>0</td>\n",
       "      <td>0</td>\n",
       "    </tr>\n",
       "  </tbody>\n",
       "</table>\n",
       "</div>"
      ],
      "text/plain": [
       "   Fuel_Type_Diesel  Fuel_Type_LPG  Fuel_Type_Petrol\n",
       "0                 0              0                 0\n",
       "1                 1              0                 0\n",
       "2                 0              0                 1\n",
       "3                 1              0                 0\n",
       "4                 1              0                 0"
      ]
     },
     "execution_count": 90,
     "metadata": {},
     "output_type": "execute_result"
    }
   ],
   "source": [
    "Fuel_t = train[[var]]\n",
    "Fuel_t = pd.get_dummies(Fuel_t,drop_first=True)\n",
    "Fuel_t.head()"
   ]
  },
  {
   "cell_type": "code",
   "execution_count": 91,
   "metadata": {},
   "outputs": [
    {
     "data": {
      "text/plain": [
       "Manual       4172\n",
       "Automatic    1702\n",
       "Name: Transmission, dtype: int64"
      ]
     },
     "execution_count": 91,
     "metadata": {},
     "output_type": "execute_result"
    }
   ],
   "source": [
    "var = 'Transmission'\n",
    "train[var].value_counts()"
   ]
  },
  {
   "cell_type": "code",
   "execution_count": 92,
   "metadata": {},
   "outputs": [
    {
     "data": {
      "text/plain": [
       "<function matplotlib.pyplot.show(close=None, block=None)>"
      ]
     },
     "execution_count": 92,
     "metadata": {},
     "output_type": "execute_result"
    },
    {
     "data": {
      "image/png": "[encoded data removed]",
      "text/plain": [
       "<Figure size 1296x432 with 1 Axes>"
      ]
     },
     "metadata": {
      "needs_background": "light"
     },
     "output_type": "display_data"
    }
   ],
   "source": [
    "sns.catplot(y='Price',x=var,data= train.sort_values('Price',ascending=False),kind=\"boxen\",height=6, aspect=3)\n",
    "plt.show"
   ]
  },
  {
   "cell_type": "code",
   "execution_count": 93,
   "metadata": {},
   "outputs": [
    {
     "data": {
      "text/html": [
       "<div>\n",
       "<style scoped>\n",
       "    .dataframe tbody tr th:only-of-type {\n",
       "        vertical-align: middle;\n",
       "    }\n",
       "\n",
       "    .dataframe tbody tr th {\n",
       "        vertical-align: top;\n",
       "    }\n",
       "\n",
       "    .dataframe thead th {\n",
       "        text-align: right;\n",
       "    }\n",
       "</style>\n",
       "<table border=\"1\" class=\"dataframe\">\n",
       "  <thead>\n",
       "    <tr style=\"text-align: right;\">\n",
       "      <th></th>\n",
       "      <th>Transmission_Manual</th>\n",
       "    </tr>\n",
       "  </thead>\n",
       "  <tbody>\n",
       "    <tr>\n",
       "      <th>0</th>\n",
       "      <td>1</td>\n",
       "    </tr>\n",
       "    <tr>\n",
       "      <th>1</th>\n",
       "      <td>1</td>\n",
       "    </tr>\n",
       "    <tr>\n",
       "      <th>2</th>\n",
       "      <td>1</td>\n",
       "    </tr>\n",
       "    <tr>\n",
       "      <th>3</th>\n",
       "      <td>1</td>\n",
       "    </tr>\n",
       "    <tr>\n",
       "      <th>4</th>\n",
       "      <td>0</td>\n",
       "    </tr>\n",
       "  </tbody>\n",
       "</table>\n",
       "</div>"
      ],
      "text/plain": [
       "   Transmission_Manual\n",
       "0                    1\n",
       "1                    1\n",
       "2                    1\n",
       "3                    1\n",
       "4                    0"
      ]
     },
     "execution_count": 93,
     "metadata": {},
     "output_type": "execute_result"
    }
   ],
   "source": [
    "Transmission = train[[var]]\n",
    "Transmission = pd.get_dummies(Transmission,drop_first=True)\n",
    "Transmission.head()"
   ]
  },
  {
   "cell_type": "code",
   "execution_count": 94,
   "metadata": {},
   "outputs": [
    {
     "data": {
      "text/plain": [
       "First             4840\n",
       "Second             926\n",
       "Third              101\n",
       "Fourth & Above       7\n",
       "Name: Owner_Type, dtype: int64"
      ]
     },
     "execution_count": 94,
     "metadata": {},
     "output_type": "execute_result"
    }
   ],
   "source": [
    "var = 'Owner_Type'\n",
    "train[var].value_counts()"
   ]
  },
  {
   "cell_type": "code",
   "execution_count": 95,
   "metadata": {},
   "outputs": [
    {
     "data": {
      "text/html": [
       "<div>\n",
       "<style scoped>\n",
       "    .dataframe tbody tr th:only-of-type {\n",
       "        vertical-align: middle;\n",
       "    }\n",
       "\n",
       "    .dataframe tbody tr th {\n",
       "        vertical-align: top;\n",
       "    }\n",
       "\n",
       "    .dataframe thead th {\n",
       "        text-align: right;\n",
       "    }\n",
       "</style>\n",
       "<table border=\"1\" class=\"dataframe\">\n",
       "  <thead>\n",
       "    <tr style=\"text-align: right;\">\n",
       "      <th></th>\n",
       "      <th>Name</th>\n",
       "      <th>Location</th>\n",
       "      <th>Year</th>\n",
       "      <th>Kilometers_Driven</th>\n",
       "      <th>Fuel_Type</th>\n",
       "      <th>Transmission</th>\n",
       "      <th>Owner_Type</th>\n",
       "      <th>Seats</th>\n",
       "      <th>New_Price</th>\n",
       "      <th>Price</th>\n",
       "      <th>Company</th>\n",
       "      <th>Mileage(km/kg)</th>\n",
       "      <th>Engine(CC)</th>\n",
       "      <th>Power(bhp)</th>\n",
       "    </tr>\n",
       "  </thead>\n",
       "  <tbody>\n",
       "    <tr>\n",
       "      <th>0</th>\n",
       "      <td>Maruti Wagon R LXI CNG</td>\n",
       "      <td>Mumbai</td>\n",
       "      <td>2010</td>\n",
       "      <td>72000</td>\n",
       "      <td>CNG</td>\n",
       "      <td>Manual</td>\n",
       "      <td>1</td>\n",
       "      <td>5</td>\n",
       "      <td>NaN</td>\n",
       "      <td>1.75</td>\n",
       "      <td>Maruti</td>\n",
       "      <td>26.60</td>\n",
       "      <td>998.0</td>\n",
       "      <td>58.16</td>\n",
       "    </tr>\n",
       "    <tr>\n",
       "      <th>1</th>\n",
       "      <td>Hyundai Creta 1.6 CRDi SX Option</td>\n",
       "      <td>Pune</td>\n",
       "      <td>2015</td>\n",
       "      <td>41000</td>\n",
       "      <td>Diesel</td>\n",
       "      <td>Manual</td>\n",
       "      <td>1</td>\n",
       "      <td>5</td>\n",
       "      <td>NaN</td>\n",
       "      <td>12.50</td>\n",
       "      <td>Hyundai</td>\n",
       "      <td>19.67</td>\n",
       "      <td>1582.0</td>\n",
       "      <td>126.2</td>\n",
       "    </tr>\n",
       "    <tr>\n",
       "      <th>2</th>\n",
       "      <td>Honda Jazz V</td>\n",
       "      <td>Chennai</td>\n",
       "      <td>2011</td>\n",
       "      <td>46000</td>\n",
       "      <td>Petrol</td>\n",
       "      <td>Manual</td>\n",
       "      <td>1</td>\n",
       "      <td>5</td>\n",
       "      <td>8.61 Lakh</td>\n",
       "      <td>4.50</td>\n",
       "      <td>Honda</td>\n",
       "      <td>18.20</td>\n",
       "      <td>1199.0</td>\n",
       "      <td>88.7</td>\n",
       "    </tr>\n",
       "    <tr>\n",
       "      <th>3</th>\n",
       "      <td>Maruti Ertiga VDI</td>\n",
       "      <td>Chennai</td>\n",
       "      <td>2012</td>\n",
       "      <td>87000</td>\n",
       "      <td>Diesel</td>\n",
       "      <td>Manual</td>\n",
       "      <td>1</td>\n",
       "      <td>7</td>\n",
       "      <td>NaN</td>\n",
       "      <td>6.00</td>\n",
       "      <td>Maruti</td>\n",
       "      <td>20.77</td>\n",
       "      <td>1248.0</td>\n",
       "      <td>88.76</td>\n",
       "    </tr>\n",
       "    <tr>\n",
       "      <th>4</th>\n",
       "      <td>Audi A4 New 2.0 TDI Multitronic</td>\n",
       "      <td>Coimbatore</td>\n",
       "      <td>2013</td>\n",
       "      <td>40670</td>\n",
       "      <td>Diesel</td>\n",
       "      <td>Automatic</td>\n",
       "      <td>2</td>\n",
       "      <td>5</td>\n",
       "      <td>NaN</td>\n",
       "      <td>17.74</td>\n",
       "      <td>Audi</td>\n",
       "      <td>15.20</td>\n",
       "      <td>1968.0</td>\n",
       "      <td>140.8</td>\n",
       "    </tr>\n",
       "  </tbody>\n",
       "</table>\n",
       "</div>"
      ],
      "text/plain": [
       "                               Name    Location  Year  Kilometers_Driven  \\\n",
       "0            Maruti Wagon R LXI CNG      Mumbai  2010              72000   \n",
       "1  Hyundai Creta 1.6 CRDi SX Option        Pune  2015              41000   \n",
       "2                      Honda Jazz V     Chennai  2011              46000   \n",
       "3                 Maruti Ertiga VDI     Chennai  2012              87000   \n",
       "4   Audi A4 New 2.0 TDI Multitronic  Coimbatore  2013              40670   \n",
       "\n",
       "  Fuel_Type Transmission  Owner_Type  Seats  New_Price  Price  Company  \\\n",
       "0       CNG       Manual           1      5        NaN   1.75   Maruti   \n",
       "1    Diesel       Manual           1      5        NaN  12.50  Hyundai   \n",
       "2    Petrol       Manual           1      5  8.61 Lakh   4.50    Honda   \n",
       "3    Diesel       Manual           1      7        NaN   6.00   Maruti   \n",
       "4    Diesel    Automatic           2      5        NaN  17.74     Audi   \n",
       "\n",
       "   Mileage(km/kg)  Engine(CC) Power(bhp)  \n",
       "0           26.60       998.0      58.16  \n",
       "1           19.67      1582.0      126.2  \n",
       "2           18.20      1199.0       88.7  \n",
       "3           20.77      1248.0      88.76  \n",
       "4           15.20      1968.0      140.8  "
      ]
     },
     "execution_count": 95,
     "metadata": {},
     "output_type": "execute_result"
    }
   ],
   "source": [
    "train.replace({\"First\":1,\"Second\":2,\"Third\": 3,\"Fourth & Above\":4},inplace=True)\n",
    "train.head()"
   ]
  },
  {
   "cell_type": "code",
   "execution_count": 97,
   "metadata": {},
   "outputs": [
    {
     "data": {
      "text/plain": [
       "Maruti           1175\n",
       "Hyundai          1058\n",
       "Honda             601\n",
       "Toyota            394\n",
       "Mercedes-Benz     316\n",
       "Volkswagen        314\n",
       "Ford              295\n",
       "Mahindra          268\n",
       "BMW               262\n",
       "Audi              235\n",
       "Tata              183\n",
       "Skoda             172\n",
       "Renault           145\n",
       "Chevrolet         120\n",
       "Nissan             89\n",
       "Land               57\n",
       "Jaguar             40\n",
       "Mitsubishi         27\n",
       "Mini               26\n",
       "Fiat               23\n",
       "Volvo              21\n",
       "Porsche            16\n",
       "Jeep               15\n",
       "Datsun             13\n",
       "Force               3\n",
       "ISUZU               2\n",
       "Isuzu               1\n",
       "Lamborghini         1\n",
       "Bentley             1\n",
       "Ambassador          1\n",
       "Name: Company, dtype: int64"
      ]
     },
     "execution_count": 97,
     "metadata": {},
     "output_type": "execute_result"
    }
   ],
   "source": [
    "var = 'Company'\n",
    "train[var].value_counts()"
   ]
  },
  {
   "cell_type": "code",
   "execution_count": 98,
   "metadata": {},
   "outputs": [
    {
     "data": {
      "text/plain": [
       "<function matplotlib.pyplot.show(close=None, block=None)>"
      ]
     },
     "execution_count": 98,
     "metadata": {},
     "output_type": "execute_result"
    },
    {
     "data": {
      "image/png": "[encoded data removed]",
      "text/plain": [
       "<Figure size 1296x432 with 1 Axes>"
      ]
     },
     "metadata": {
      "needs_background": "light"
     },
     "output_type": "display_data"
    }
   ],
   "source": [
    "sns.catplot(y='Price',x=var,data= train.sort_values('Price',ascending=False),kind=\"boxen\",height=6, aspect=3)\n",
    "plt.show"
   ]
  },
  {
   "cell_type": "code",
   "execution_count": 99,
   "metadata": {},
   "outputs": [],
   "source": [
    "train.drop([\"Company\"],axis=1,inplace=True)"
   ]
  },
  {
   "cell_type": "code",
   "execution_count": 100,
   "metadata": {},
   "outputs": [
    {
     "name": "stdout",
     "output_type": "stream",
     "text": [
      "<class 'pandas.core.frame.DataFrame'>\n",
      "Int64Index: 5874 entries, 0 to 5873\n",
      "Data columns (total 13 columns):\n",
      " #   Column             Non-Null Count  Dtype  \n",
      "---  ------             --------------  -----  \n",
      " 0   Name               5874 non-null   object \n",
      " 1   Location           5874 non-null   object \n",
      " 2   Year               5874 non-null   int64  \n",
      " 3   Kilometers_Driven  5874 non-null   int64  \n",
      " 4   Fuel_Type          5874 non-null   object \n",
      " 5   Transmission       5874 non-null   object \n",
      " 6   Owner_Type         5874 non-null   int64  \n",
      " 7   Seats              5874 non-null   int32  \n",
      " 8   New_Price          823 non-null    object \n",
      " 9   Price              5874 non-null   float64\n",
      " 10  Mileage(km/kg)     5874 non-null   float64\n",
      " 11  Engine(CC)         5874 non-null   float64\n",
      " 12  Power(bhp)         5874 non-null   object \n",
      "dtypes: float64(3), int32(1), int64(3), object(6)\n",
      "memory usage: 779.5+ KB\n"
     ]
    }
   ],
   "source": [
    "train.info()"
   ]
  },
  {
   "cell_type": "code",
   "execution_count": 101,
   "metadata": {},
   "outputs": [
    {
     "data": {
      "text/html": [
       "<div>\n",
       "<style scoped>\n",
       "    .dataframe tbody tr th:only-of-type {\n",
       "        vertical-align: middle;\n",
       "    }\n",
       "\n",
       "    .dataframe tbody tr th {\n",
       "        vertical-align: top;\n",
       "    }\n",
       "\n",
       "    .dataframe thead th {\n",
       "        text-align: right;\n",
       "    }\n",
       "</style>\n",
       "<table border=\"1\" class=\"dataframe\">\n",
       "  <thead>\n",
       "    <tr style=\"text-align: right;\">\n",
       "      <th></th>\n",
       "      <th>Name</th>\n",
       "      <th>Location</th>\n",
       "      <th>Year</th>\n",
       "      <th>Kilometers_Driven</th>\n",
       "      <th>Fuel_Type</th>\n",
       "      <th>Transmission</th>\n",
       "      <th>Owner_Type</th>\n",
       "      <th>Seats</th>\n",
       "      <th>New_Price</th>\n",
       "      <th>Price</th>\n",
       "      <th>...</th>\n",
       "      <th>Location_Hyderabad</th>\n",
       "      <th>Location_Jaipur</th>\n",
       "      <th>Location_Kochi</th>\n",
       "      <th>Location_Kolkata</th>\n",
       "      <th>Location_Mumbai</th>\n",
       "      <th>Location_Pune</th>\n",
       "      <th>Fuel_Type_Diesel</th>\n",
       "      <th>Fuel_Type_LPG</th>\n",
       "      <th>Fuel_Type_Petrol</th>\n",
       "      <th>Transmission_Manual</th>\n",
       "    </tr>\n",
       "  </thead>\n",
       "  <tbody>\n",
       "    <tr>\n",
       "      <th>0</th>\n",
       "      <td>Maruti Wagon R LXI CNG</td>\n",
       "      <td>Mumbai</td>\n",
       "      <td>2010</td>\n",
       "      <td>72000</td>\n",
       "      <td>CNG</td>\n",
       "      <td>Manual</td>\n",
       "      <td>1</td>\n",
       "      <td>5</td>\n",
       "      <td>NaN</td>\n",
       "      <td>1.75</td>\n",
       "      <td>...</td>\n",
       "      <td>0</td>\n",
       "      <td>0</td>\n",
       "      <td>0</td>\n",
       "      <td>0</td>\n",
       "      <td>1</td>\n",
       "      <td>0</td>\n",
       "      <td>0</td>\n",
       "      <td>0</td>\n",
       "      <td>0</td>\n",
       "      <td>1</td>\n",
       "    </tr>\n",
       "    <tr>\n",
       "      <th>1</th>\n",
       "      <td>Hyundai Creta 1.6 CRDi SX Option</td>\n",
       "      <td>Pune</td>\n",
       "      <td>2015</td>\n",
       "      <td>41000</td>\n",
       "      <td>Diesel</td>\n",
       "      <td>Manual</td>\n",
       "      <td>1</td>\n",
       "      <td>5</td>\n",
       "      <td>NaN</td>\n",
       "      <td>12.50</td>\n",
       "      <td>...</td>\n",
       "      <td>0</td>\n",
       "      <td>0</td>\n",
       "      <td>0</td>\n",
       "      <td>0</td>\n",
       "      <td>0</td>\n",
       "      <td>1</td>\n",
       "      <td>1</td>\n",
       "      <td>0</td>\n",
       "      <td>0</td>\n",
       "      <td>1</td>\n",
       "    </tr>\n",
       "    <tr>\n",
       "      <th>2</th>\n",
       "      <td>Honda Jazz V</td>\n",
       "      <td>Chennai</td>\n",
       "      <td>2011</td>\n",
       "      <td>46000</td>\n",
       "      <td>Petrol</td>\n",
       "      <td>Manual</td>\n",
       "      <td>1</td>\n",
       "      <td>5</td>\n",
       "      <td>8.61 Lakh</td>\n",
       "      <td>4.50</td>\n",
       "      <td>...</td>\n",
       "      <td>0</td>\n",
       "      <td>0</td>\n",
       "      <td>0</td>\n",
       "      <td>0</td>\n",
       "      <td>0</td>\n",
       "      <td>0</td>\n",
       "      <td>0</td>\n",
       "      <td>0</td>\n",
       "      <td>1</td>\n",
       "      <td>1</td>\n",
       "    </tr>\n",
       "    <tr>\n",
       "      <th>3</th>\n",
       "      <td>Maruti Ertiga VDI</td>\n",
       "      <td>Chennai</td>\n",
       "      <td>2012</td>\n",
       "      <td>87000</td>\n",
       "      <td>Diesel</td>\n",
       "      <td>Manual</td>\n",
       "      <td>1</td>\n",
       "      <td>7</td>\n",
       "      <td>NaN</td>\n",
       "      <td>6.00</td>\n",
       "      <td>...</td>\n",
       "      <td>0</td>\n",
       "      <td>0</td>\n",
       "      <td>0</td>\n",
       "      <td>0</td>\n",
       "      <td>0</td>\n",
       "      <td>0</td>\n",
       "      <td>1</td>\n",
       "      <td>0</td>\n",
       "      <td>0</td>\n",
       "      <td>1</td>\n",
       "    </tr>\n",
       "    <tr>\n",
       "      <th>4</th>\n",
       "      <td>Audi A4 New 2.0 TDI Multitronic</td>\n",
       "      <td>Coimbatore</td>\n",
       "      <td>2013</td>\n",
       "      <td>40670</td>\n",
       "      <td>Diesel</td>\n",
       "      <td>Automatic</td>\n",
       "      <td>2</td>\n",
       "      <td>5</td>\n",
       "      <td>NaN</td>\n",
       "      <td>17.74</td>\n",
       "      <td>...</td>\n",
       "      <td>0</td>\n",
       "      <td>0</td>\n",
       "      <td>0</td>\n",
       "      <td>0</td>\n",
       "      <td>0</td>\n",
       "      <td>0</td>\n",
       "      <td>1</td>\n",
       "      <td>0</td>\n",
       "      <td>0</td>\n",
       "      <td>0</td>\n",
       "    </tr>\n",
       "  </tbody>\n",
       "</table>\n",
       "<p>5 rows × 27 columns</p>\n",
       "</div>"
      ],
      "text/plain": [
       "                               Name    Location  Year  Kilometers_Driven  \\\n",
       "0            Maruti Wagon R LXI CNG      Mumbai  2010              72000   \n",
       "1  Hyundai Creta 1.6 CRDi SX Option        Pune  2015              41000   \n",
       "2                      Honda Jazz V     Chennai  2011              46000   \n",
       "3                 Maruti Ertiga VDI     Chennai  2012              87000   \n",
       "4   Audi A4 New 2.0 TDI Multitronic  Coimbatore  2013              40670   \n",
       "\n",
       "  Fuel_Type Transmission  Owner_Type  Seats  New_Price  Price  ...  \\\n",
       "0       CNG       Manual           1      5        NaN   1.75  ...   \n",
       "1    Diesel       Manual           1      5        NaN  12.50  ...   \n",
       "2    Petrol       Manual           1      5  8.61 Lakh   4.50  ...   \n",
       "3    Diesel       Manual           1      7        NaN   6.00  ...   \n",
       "4    Diesel    Automatic           2      5        NaN  17.74  ...   \n",
       "\n",
       "   Location_Hyderabad  Location_Jaipur Location_Kochi  Location_Kolkata  \\\n",
       "0                   0                0              0                 0   \n",
       "1                   0                0              0                 0   \n",
       "2                   0                0              0                 0   \n",
       "3                   0                0              0                 0   \n",
       "4                   0                0              0                 0   \n",
       "\n",
       "   Location_Mumbai  Location_Pune  Fuel_Type_Diesel  Fuel_Type_LPG  \\\n",
       "0                1              0                 0              0   \n",
       "1                0              1                 1              0   \n",
       "2                0              0                 0              0   \n",
       "3                0              0                 1              0   \n",
       "4                0              0                 1              0   \n",
       "\n",
       "   Fuel_Type_Petrol  Transmission_Manual  \n",
       "0                 0                    1  \n",
       "1                 0                    1  \n",
       "2                 1                    1  \n",
       "3                 0                    1  \n",
       "4                 0                    0  \n",
       "\n",
       "[5 rows x 27 columns]"
      ]
     },
     "execution_count": 101,
     "metadata": {},
     "output_type": "execute_result"
    }
   ],
   "source": [
    "final_train= pd.concat([train,Location,Fuel_t,Transmission],axis=1)\n",
    "final_train.head()"
   ]
  },
  {
   "cell_type": "code",
   "execution_count": 102,
   "metadata": {},
   "outputs": [
    {
     "name": "stdout",
     "output_type": "stream",
     "text": [
      "<class 'pandas.core.frame.DataFrame'>\n",
      "Int64Index: 5874 entries, 0 to 5873\n",
      "Data columns (total 27 columns):\n",
      " #   Column               Non-Null Count  Dtype  \n",
      "---  ------               --------------  -----  \n",
      " 0   Name                 5874 non-null   object \n",
      " 1   Location             5874 non-null   object \n",
      " 2   Year                 5874 non-null   int64  \n",
      " 3   Kilometers_Driven    5874 non-null   int64  \n",
      " 4   Fuel_Type            5874 non-null   object \n",
      " 5   Transmission         5874 non-null   object \n",
      " 6   Owner_Type           5874 non-null   int64  \n",
      " 7   Seats                5874 non-null   int32  \n",
      " 8   New_Price            823 non-null    object \n",
      " 9   Price                5874 non-null   float64\n",
      " 10  Mileage(km/kg)       5874 non-null   float64\n",
      " 11  Engine(CC)           5874 non-null   float64\n",
      " 12  Power(bhp)           5874 non-null   object \n",
      " 13  Location_Bangalore   5874 non-null   uint8  \n",
      " 14  Location_Chennai     5874 non-null   uint8  \n",
      " 15  Location_Coimbatore  5874 non-null   uint8  \n",
      " 16  Location_Delhi       5874 non-null   uint8  \n",
      " 17  Location_Hyderabad   5874 non-null   uint8  \n",
      " 18  Location_Jaipur      5874 non-null   uint8  \n",
      " 19  Location_Kochi       5874 non-null   uint8  \n",
      " 20  Location_Kolkata     5874 non-null   uint8  \n",
      " 21  Location_Mumbai      5874 non-null   uint8  \n",
      " 22  Location_Pune        5874 non-null   uint8  \n",
      " 23  Fuel_Type_Diesel     5874 non-null   uint8  \n",
      " 24  Fuel_Type_LPG        5874 non-null   uint8  \n",
      " 25  Fuel_Type_Petrol     5874 non-null   uint8  \n",
      " 26  Transmission_Manual  5874 non-null   uint8  \n",
      "dtypes: float64(3), int32(1), int64(3), object(6), uint8(14)\n",
      "memory usage: 859.8+ KB\n"
     ]
    }
   ],
   "source": [
    "final_train.info()"
   ]
  },
  {
   "cell_type": "code",
   "execution_count": 104,
   "metadata": {},
   "outputs": [
    {
     "data": {
      "text/html": [
       "<div>\n",
       "<style scoped>\n",
       "    .dataframe tbody tr th:only-of-type {\n",
       "        vertical-align: middle;\n",
       "    }\n",
       "\n",
       "    .dataframe tbody tr th {\n",
       "        vertical-align: top;\n",
       "    }\n",
       "\n",
       "    .dataframe thead th {\n",
       "        text-align: right;\n",
       "    }\n",
       "</style>\n",
       "<table border=\"1\" class=\"dataframe\">\n",
       "  <thead>\n",
       "    <tr style=\"text-align: right;\">\n",
       "      <th></th>\n",
       "      <th>Year</th>\n",
       "      <th>Kilometers_Driven</th>\n",
       "      <th>Owner_Type</th>\n",
       "      <th>Seats</th>\n",
       "      <th>New_Price</th>\n",
       "      <th>Price</th>\n",
       "      <th>Mileage(km/kg)</th>\n",
       "      <th>Engine(CC)</th>\n",
       "      <th>Power(bhp)</th>\n",
       "      <th>Location_Bangalore</th>\n",
       "      <th>...</th>\n",
       "      <th>Location_Hyderabad</th>\n",
       "      <th>Location_Jaipur</th>\n",
       "      <th>Location_Kochi</th>\n",
       "      <th>Location_Kolkata</th>\n",
       "      <th>Location_Mumbai</th>\n",
       "      <th>Location_Pune</th>\n",
       "      <th>Fuel_Type_Diesel</th>\n",
       "      <th>Fuel_Type_LPG</th>\n",
       "      <th>Fuel_Type_Petrol</th>\n",
       "      <th>Transmission_Manual</th>\n",
       "    </tr>\n",
       "  </thead>\n",
       "  <tbody>\n",
       "    <tr>\n",
       "      <th>0</th>\n",
       "      <td>2010</td>\n",
       "      <td>72000</td>\n",
       "      <td>1</td>\n",
       "      <td>5</td>\n",
       "      <td>NaN</td>\n",
       "      <td>1.75</td>\n",
       "      <td>26.60</td>\n",
       "      <td>998.0</td>\n",
       "      <td>58.16</td>\n",
       "      <td>0</td>\n",
       "      <td>...</td>\n",
       "      <td>0</td>\n",
       "      <td>0</td>\n",
       "      <td>0</td>\n",
       "      <td>0</td>\n",
       "      <td>1</td>\n",
       "      <td>0</td>\n",
       "      <td>0</td>\n",
       "      <td>0</td>\n",
       "      <td>0</td>\n",
       "      <td>1</td>\n",
       "    </tr>\n",
       "    <tr>\n",
       "      <th>1</th>\n",
       "      <td>2015</td>\n",
       "      <td>41000</td>\n",
       "      <td>1</td>\n",
       "      <td>5</td>\n",
       "      <td>NaN</td>\n",
       "      <td>12.50</td>\n",
       "      <td>19.67</td>\n",
       "      <td>1582.0</td>\n",
       "      <td>126.2</td>\n",
       "      <td>0</td>\n",
       "      <td>...</td>\n",
       "      <td>0</td>\n",
       "      <td>0</td>\n",
       "      <td>0</td>\n",
       "      <td>0</td>\n",
       "      <td>0</td>\n",
       "      <td>1</td>\n",
       "      <td>1</td>\n",
       "      <td>0</td>\n",
       "      <td>0</td>\n",
       "      <td>1</td>\n",
       "    </tr>\n",
       "    <tr>\n",
       "      <th>2</th>\n",
       "      <td>2011</td>\n",
       "      <td>46000</td>\n",
       "      <td>1</td>\n",
       "      <td>5</td>\n",
       "      <td>8.61 Lakh</td>\n",
       "      <td>4.50</td>\n",
       "      <td>18.20</td>\n",
       "      <td>1199.0</td>\n",
       "      <td>88.7</td>\n",
       "      <td>0</td>\n",
       "      <td>...</td>\n",
       "      <td>0</td>\n",
       "      <td>0</td>\n",
       "      <td>0</td>\n",
       "      <td>0</td>\n",
       "      <td>0</td>\n",
       "      <td>0</td>\n",
       "      <td>0</td>\n",
       "      <td>0</td>\n",
       "      <td>1</td>\n",
       "      <td>1</td>\n",
       "    </tr>\n",
       "    <tr>\n",
       "      <th>3</th>\n",
       "      <td>2012</td>\n",
       "      <td>87000</td>\n",
       "      <td>1</td>\n",
       "      <td>7</td>\n",
       "      <td>NaN</td>\n",
       "      <td>6.00</td>\n",
       "      <td>20.77</td>\n",
       "      <td>1248.0</td>\n",
       "      <td>88.76</td>\n",
       "      <td>0</td>\n",
       "      <td>...</td>\n",
       "      <td>0</td>\n",
       "      <td>0</td>\n",
       "      <td>0</td>\n",
       "      <td>0</td>\n",
       "      <td>0</td>\n",
       "      <td>0</td>\n",
       "      <td>1</td>\n",
       "      <td>0</td>\n",
       "      <td>0</td>\n",
       "      <td>1</td>\n",
       "    </tr>\n",
       "    <tr>\n",
       "      <th>4</th>\n",
       "      <td>2013</td>\n",
       "      <td>40670</td>\n",
       "      <td>2</td>\n",
       "      <td>5</td>\n",
       "      <td>NaN</td>\n",
       "      <td>17.74</td>\n",
       "      <td>15.20</td>\n",
       "      <td>1968.0</td>\n",
       "      <td>140.8</td>\n",
       "      <td>0</td>\n",
       "      <td>...</td>\n",
       "      <td>0</td>\n",
       "      <td>0</td>\n",
       "      <td>0</td>\n",
       "      <td>0</td>\n",
       "      <td>0</td>\n",
       "      <td>0</td>\n",
       "      <td>1</td>\n",
       "      <td>0</td>\n",
       "      <td>0</td>\n",
       "      <td>0</td>\n",
       "    </tr>\n",
       "  </tbody>\n",
       "</table>\n",
       "<p>5 rows × 23 columns</p>\n",
       "</div>"
      ],
      "text/plain": [
       "   Year  Kilometers_Driven  Owner_Type  Seats  New_Price  Price  \\\n",
       "0  2010              72000           1      5        NaN   1.75   \n",
       "1  2015              41000           1      5        NaN  12.50   \n",
       "2  2011              46000           1      5  8.61 Lakh   4.50   \n",
       "3  2012              87000           1      7        NaN   6.00   \n",
       "4  2013              40670           2      5        NaN  17.74   \n",
       "\n",
       "   Mileage(km/kg)  Engine(CC) Power(bhp)  Location_Bangalore  ...  \\\n",
       "0           26.60       998.0      58.16                   0  ...   \n",
       "1           19.67      1582.0      126.2                   0  ...   \n",
       "2           18.20      1199.0       88.7                   0  ...   \n",
       "3           20.77      1248.0      88.76                   0  ...   \n",
       "4           15.20      1968.0      140.8                   0  ...   \n",
       "\n",
       "   Location_Hyderabad  Location_Jaipur  Location_Kochi  Location_Kolkata  \\\n",
       "0                   0                0               0                 0   \n",
       "1                   0                0               0                 0   \n",
       "2                   0                0               0                 0   \n",
       "3                   0                0               0                 0   \n",
       "4                   0                0               0                 0   \n",
       "\n",
       "   Location_Mumbai  Location_Pune  Fuel_Type_Diesel  Fuel_Type_LPG  \\\n",
       "0                1              0                 0              0   \n",
       "1                0              1                 1              0   \n",
       "2                0              0                 0              0   \n",
       "3                0              0                 1              0   \n",
       "4                0              0                 1              0   \n",
       "\n",
       "   Fuel_Type_Petrol  Transmission_Manual  \n",
       "0                 0                    1  \n",
       "1                 0                    1  \n",
       "2                 1                    1  \n",
       "3                 0                    1  \n",
       "4                 0                    0  \n",
       "\n",
       "[5 rows x 23 columns]"
      ]
     },
     "execution_count": 104,
     "metadata": {},
     "output_type": "execute_result"
    }
   ],
   "source": [
    "final_train.drop([\"Name\",\"Location\",\"Fuel_Type\",\"Transmission\"],axis=1,inplace=True)\n",
    "final_train.head()"
   ]
  },
  {
   "cell_type": "code",
   "execution_count": 105,
   "metadata": {},
   "outputs": [
    {
     "data": {
      "text/plain": [
       "(5874, 23)"
      ]
     },
     "execution_count": 105,
     "metadata": {},
     "output_type": "execute_result"
    }
   ],
   "source": [
    "final_train.shape"
   ]
  },
  {
   "cell_type": "code",
   "execution_count": 106,
   "metadata": {},
   "outputs": [
    {
     "data": {
      "text/html": [
       "<div>\n",
       "<style scoped>\n",
       "    .dataframe tbody tr th:only-of-type {\n",
       "        vertical-align: middle;\n",
       "    }\n",
       "\n",
       "    .dataframe tbody tr th {\n",
       "        vertical-align: top;\n",
       "    }\n",
       "\n",
       "    .dataframe thead th {\n",
       "        text-align: right;\n",
       "    }\n",
       "</style>\n",
       "<table border=\"1\" class=\"dataframe\">\n",
       "  <thead>\n",
       "    <tr style=\"text-align: right;\">\n",
       "      <th></th>\n",
       "      <th>Name</th>\n",
       "      <th>Location</th>\n",
       "      <th>Year</th>\n",
       "      <th>Kilometers_Driven</th>\n",
       "      <th>Fuel_Type</th>\n",
       "      <th>Transmission</th>\n",
       "      <th>Owner_Type</th>\n",
       "      <th>Seats</th>\n",
       "      <th>New_Price</th>\n",
       "      <th>Price</th>\n",
       "      <th>Company</th>\n",
       "      <th>Mileage(km/kg)</th>\n",
       "      <th>Engine(CC)</th>\n",
       "      <th>Power(bhp)</th>\n",
       "    </tr>\n",
       "  </thead>\n",
       "  <tbody>\n",
       "    <tr>\n",
       "      <th>0</th>\n",
       "      <td>Maruti Alto K10 LXI CNG</td>\n",
       "      <td>Delhi</td>\n",
       "      <td>2014</td>\n",
       "      <td>40929</td>\n",
       "      <td>CNG</td>\n",
       "      <td>Manual</td>\n",
       "      <td>First</td>\n",
       "      <td>4</td>\n",
       "      <td>NaN</td>\n",
       "      <td>NaN</td>\n",
       "      <td>Maruti</td>\n",
       "      <td>32.26</td>\n",
       "      <td>998.0</td>\n",
       "      <td>58.2</td>\n",
       "    </tr>\n",
       "    <tr>\n",
       "      <th>1</th>\n",
       "      <td>Maruti Alto 800 2016-2019 LXI</td>\n",
       "      <td>Coimbatore</td>\n",
       "      <td>2013</td>\n",
       "      <td>54493</td>\n",
       "      <td>Petrol</td>\n",
       "      <td>Manual</td>\n",
       "      <td>Second</td>\n",
       "      <td>5</td>\n",
       "      <td>NaN</td>\n",
       "      <td>NaN</td>\n",
       "      <td>Maruti</td>\n",
       "      <td>24.70</td>\n",
       "      <td>796.0</td>\n",
       "      <td>47.3</td>\n",
       "    </tr>\n",
       "    <tr>\n",
       "      <th>2</th>\n",
       "      <td>Toyota Innova Crysta Touring Sport 2.4 MT</td>\n",
       "      <td>Mumbai</td>\n",
       "      <td>2017</td>\n",
       "      <td>34000</td>\n",
       "      <td>Diesel</td>\n",
       "      <td>Manual</td>\n",
       "      <td>First</td>\n",
       "      <td>7</td>\n",
       "      <td>25.27 Lakh</td>\n",
       "      <td>NaN</td>\n",
       "      <td>Toyota</td>\n",
       "      <td>13.68</td>\n",
       "      <td>2393.0</td>\n",
       "      <td>147.8</td>\n",
       "    </tr>\n",
       "    <tr>\n",
       "      <th>3</th>\n",
       "      <td>Hyundai i20 Magna</td>\n",
       "      <td>Mumbai</td>\n",
       "      <td>2014</td>\n",
       "      <td>29000</td>\n",
       "      <td>Petrol</td>\n",
       "      <td>Manual</td>\n",
       "      <td>First</td>\n",
       "      <td>5</td>\n",
       "      <td>NaN</td>\n",
       "      <td>NaN</td>\n",
       "      <td>Hyundai</td>\n",
       "      <td>18.50</td>\n",
       "      <td>1197.0</td>\n",
       "      <td>82.85</td>\n",
       "    </tr>\n",
       "    <tr>\n",
       "      <th>4</th>\n",
       "      <td>Mahindra XUV500 W8 2WD</td>\n",
       "      <td>Coimbatore</td>\n",
       "      <td>2016</td>\n",
       "      <td>85609</td>\n",
       "      <td>Diesel</td>\n",
       "      <td>Manual</td>\n",
       "      <td>Second</td>\n",
       "      <td>7</td>\n",
       "      <td>NaN</td>\n",
       "      <td>NaN</td>\n",
       "      <td>Mahindra</td>\n",
       "      <td>16.00</td>\n",
       "      <td>2179.0</td>\n",
       "      <td>140</td>\n",
       "    </tr>\n",
       "  </tbody>\n",
       "</table>\n",
       "</div>"
      ],
      "text/plain": [
       "                                        Name    Location  Year  \\\n",
       "0                    Maruti Alto K10 LXI CNG       Delhi  2014   \n",
       "1              Maruti Alto 800 2016-2019 LXI  Coimbatore  2013   \n",
       "2  Toyota Innova Crysta Touring Sport 2.4 MT      Mumbai  2017   \n",
       "3                          Hyundai i20 Magna      Mumbai  2014   \n",
       "4                     Mahindra XUV500 W8 2WD  Coimbatore  2016   \n",
       "\n",
       "   Kilometers_Driven Fuel_Type Transmission Owner_Type  Seats   New_Price  \\\n",
       "0              40929       CNG       Manual      First      4         NaN   \n",
       "1              54493    Petrol       Manual     Second      5         NaN   \n",
       "2              34000    Diesel       Manual      First      7  25.27 Lakh   \n",
       "3              29000    Petrol       Manual      First      5         NaN   \n",
       "4              85609    Diesel       Manual     Second      7         NaN   \n",
       "\n",
       "   Price   Company  Mileage(km/kg)  Engine(CC) Power(bhp)  \n",
       "0    NaN    Maruti           32.26       998.0       58.2  \n",
       "1    NaN    Maruti           24.70       796.0       47.3  \n",
       "2    NaN    Toyota           13.68      2393.0      147.8  \n",
       "3    NaN   Hyundai           18.50      1197.0      82.85  \n",
       "4    NaN  Mahindra           16.00      2179.0        140  "
      ]
     },
     "execution_count": 106,
     "metadata": {},
     "output_type": "execute_result"
    }
   ],
   "source": [
    "test.head()"
   ]
  },
  {
   "cell_type": "code",
   "execution_count": 107,
   "metadata": {},
   "outputs": [],
   "source": [
    "test = test.iloc[:,1:]"
   ]
  },
  {
   "cell_type": "code",
   "execution_count": 108,
   "metadata": {},
   "outputs": [
    {
     "data": {
      "text/html": [
       "<div>\n",
       "<style scoped>\n",
       "    .dataframe tbody tr th:only-of-type {\n",
       "        vertical-align: middle;\n",
       "    }\n",
       "\n",
       "    .dataframe tbody tr th {\n",
       "        vertical-align: top;\n",
       "    }\n",
       "\n",
       "    .dataframe thead th {\n",
       "        text-align: right;\n",
       "    }\n",
       "</style>\n",
       "<table border=\"1\" class=\"dataframe\">\n",
       "  <thead>\n",
       "    <tr style=\"text-align: right;\">\n",
       "      <th></th>\n",
       "      <th>Location</th>\n",
       "      <th>Year</th>\n",
       "      <th>Kilometers_Driven</th>\n",
       "      <th>Fuel_Type</th>\n",
       "      <th>Transmission</th>\n",
       "      <th>Owner_Type</th>\n",
       "      <th>Seats</th>\n",
       "      <th>New_Price</th>\n",
       "      <th>Price</th>\n",
       "      <th>Company</th>\n",
       "      <th>Mileage(km/kg)</th>\n",
       "      <th>Engine(CC)</th>\n",
       "      <th>Power(bhp)</th>\n",
       "    </tr>\n",
       "  </thead>\n",
       "  <tbody>\n",
       "    <tr>\n",
       "      <th>0</th>\n",
       "      <td>Delhi</td>\n",
       "      <td>2014</td>\n",
       "      <td>40929</td>\n",
       "      <td>CNG</td>\n",
       "      <td>Manual</td>\n",
       "      <td>First</td>\n",
       "      <td>4</td>\n",
       "      <td>NaN</td>\n",
       "      <td>NaN</td>\n",
       "      <td>Maruti</td>\n",
       "      <td>32.26</td>\n",
       "      <td>998.0</td>\n",
       "      <td>58.2</td>\n",
       "    </tr>\n",
       "    <tr>\n",
       "      <th>1</th>\n",
       "      <td>Coimbatore</td>\n",
       "      <td>2013</td>\n",
       "      <td>54493</td>\n",
       "      <td>Petrol</td>\n",
       "      <td>Manual</td>\n",
       "      <td>Second</td>\n",
       "      <td>5</td>\n",
       "      <td>NaN</td>\n",
       "      <td>NaN</td>\n",
       "      <td>Maruti</td>\n",
       "      <td>24.70</td>\n",
       "      <td>796.0</td>\n",
       "      <td>47.3</td>\n",
       "    </tr>\n",
       "    <tr>\n",
       "      <th>2</th>\n",
       "      <td>Mumbai</td>\n",
       "      <td>2017</td>\n",
       "      <td>34000</td>\n",
       "      <td>Diesel</td>\n",
       "      <td>Manual</td>\n",
       "      <td>First</td>\n",
       "      <td>7</td>\n",
       "      <td>25.27 Lakh</td>\n",
       "      <td>NaN</td>\n",
       "      <td>Toyota</td>\n",
       "      <td>13.68</td>\n",
       "      <td>2393.0</td>\n",
       "      <td>147.8</td>\n",
       "    </tr>\n",
       "    <tr>\n",
       "      <th>3</th>\n",
       "      <td>Mumbai</td>\n",
       "      <td>2014</td>\n",
       "      <td>29000</td>\n",
       "      <td>Petrol</td>\n",
       "      <td>Manual</td>\n",
       "      <td>First</td>\n",
       "      <td>5</td>\n",
       "      <td>NaN</td>\n",
       "      <td>NaN</td>\n",
       "      <td>Hyundai</td>\n",
       "      <td>18.50</td>\n",
       "      <td>1197.0</td>\n",
       "      <td>82.85</td>\n",
       "    </tr>\n",
       "    <tr>\n",
       "      <th>4</th>\n",
       "      <td>Coimbatore</td>\n",
       "      <td>2016</td>\n",
       "      <td>85609</td>\n",
       "      <td>Diesel</td>\n",
       "      <td>Manual</td>\n",
       "      <td>Second</td>\n",
       "      <td>7</td>\n",
       "      <td>NaN</td>\n",
       "      <td>NaN</td>\n",
       "      <td>Mahindra</td>\n",
       "      <td>16.00</td>\n",
       "      <td>2179.0</td>\n",
       "      <td>140</td>\n",
       "    </tr>\n",
       "  </tbody>\n",
       "</table>\n",
       "</div>"
      ],
      "text/plain": [
       "     Location  Year  Kilometers_Driven Fuel_Type Transmission Owner_Type  \\\n",
       "0       Delhi  2014              40929       CNG       Manual      First   \n",
       "1  Coimbatore  2013              54493    Petrol       Manual     Second   \n",
       "2      Mumbai  2017              34000    Diesel       Manual      First   \n",
       "3      Mumbai  2014              29000    Petrol       Manual      First   \n",
       "4  Coimbatore  2016              85609    Diesel       Manual     Second   \n",
       "\n",
       "   Seats   New_Price  Price   Company  Mileage(km/kg)  Engine(CC) Power(bhp)  \n",
       "0      4         NaN    NaN    Maruti           32.26       998.0       58.2  \n",
       "1      5         NaN    NaN    Maruti           24.70       796.0       47.3  \n",
       "2      7  25.27 Lakh    NaN    Toyota           13.68      2393.0      147.8  \n",
       "3      5         NaN    NaN   Hyundai           18.50      1197.0      82.85  \n",
       "4      7         NaN    NaN  Mahindra           16.00      2179.0        140  "
      ]
     },
     "execution_count": 108,
     "metadata": {},
     "output_type": "execute_result"
    }
   ],
   "source": [
    "test.head()"
   ]
  },
  {
   "cell_type": "code",
   "execution_count": 109,
   "metadata": {},
   "outputs": [
    {
     "name": "stdout",
     "output_type": "stream",
     "text": [
      "Final Test Size:  (1202, 24)\n"
     ]
    }
   ],
   "source": [
    "\n",
    "\n",
    "\n",
    "\n",
    " \n",
    "\n",
    "\n",
    "\n",
    "var = 'Location'\n",
    "Location = test[[var]]\n",
    "Location = pd.get_dummies(Location,drop_first=True)\n",
    "Location.head()\n",
    "\n",
    "var = 'Fuel_Type'\n",
    "Fuel_t = test[[var]]\n",
    "Fuel_t = pd.get_dummies(Fuel_t,drop_first=True)\n",
    "Fuel_t.head()\n",
    "\n",
    "var = 'Transmission'\n",
    "Transmission = test[[var]]\n",
    "Transmission = pd.get_dummies(Transmission,drop_first=True)\n",
    "Transmission.head()\n",
    "\n",
    "test.replace({\"First\":1,\"Second\":2,\"Third\": 3,\"Fourth & Above\":4},inplace=True)\n",
    "test.head()\n",
    "\n",
    "final_test= pd.concat([test,Location,Fuel_t,Transmission],axis=1)\n",
    "final_test.head()\n",
    "\n",
    "final_test.drop([\"Location\",\"Fuel_Type\",\"Transmission\"],axis=1,inplace=True)\n",
    "final_test.head()\n",
    "\n",
    "print(\"Final Test Size: \",final_test.shape)"
   ]
  },
  {
   "cell_type": "code",
   "execution_count": 110,
   "metadata": {},
   "outputs": [
    {
     "name": "stdout",
     "output_type": "stream",
     "text": [
      "<class 'pandas.core.frame.DataFrame'>\n",
      "Int64Index: 1202 entries, 0 to 1201\n",
      "Data columns (total 24 columns):\n",
      " #   Column               Non-Null Count  Dtype  \n",
      "---  ------               --------------  -----  \n",
      " 0   Year                 1202 non-null   int64  \n",
      " 1   Kilometers_Driven    1202 non-null   int64  \n",
      " 2   Owner_Type           1202 non-null   int64  \n",
      " 3   Seats                1202 non-null   int32  \n",
      " 4   New_Price            182 non-null    object \n",
      " 5   Price                0 non-null      float64\n",
      " 6   Company              1202 non-null   object \n",
      " 7   Mileage(km/kg)       1202 non-null   float64\n",
      " 8   Engine(CC)           1202 non-null   float64\n",
      " 9   Power(bhp)           1202 non-null   object \n",
      " 10  Location_Bangalore   1202 non-null   uint8  \n",
      " 11  Location_Chennai     1202 non-null   uint8  \n",
      " 12  Location_Coimbatore  1202 non-null   uint8  \n",
      " 13  Location_Delhi       1202 non-null   uint8  \n",
      " 14  Location_Hyderabad   1202 non-null   uint8  \n",
      " 15  Location_Jaipur      1202 non-null   uint8  \n",
      " 16  Location_Kochi       1202 non-null   uint8  \n",
      " 17  Location_Kolkata     1202 non-null   uint8  \n",
      " 18  Location_Mumbai      1202 non-null   uint8  \n",
      " 19  Location_Pune        1202 non-null   uint8  \n",
      " 20  Fuel_Type_Diesel     1202 non-null   uint8  \n",
      " 21  Fuel_Type_LPG        1202 non-null   uint8  \n",
      " 22  Fuel_Type_Petrol     1202 non-null   uint8  \n",
      " 23  Transmission_Manual  1202 non-null   uint8  \n",
      "dtypes: float64(3), int32(1), int64(3), object(3), uint8(14)\n",
      "memory usage: 115.0+ KB\n"
     ]
    }
   ],
   "source": [
    "final_test.info()"
   ]
  },
  {
   "cell_type": "code",
   "execution_count": 111,
   "metadata": {},
   "outputs": [],
   "source": [
    "final_train.drop('New_Price',axis = 1, inplace = True)"
   ]
  },
  {
   "cell_type": "code",
   "execution_count": 112,
   "metadata": {},
   "outputs": [
    {
     "name": "stdout",
     "output_type": "stream",
     "text": [
      "<class 'pandas.core.frame.DataFrame'>\n",
      "Int64Index: 5874 entries, 0 to 5873\n",
      "Data columns (total 22 columns):\n",
      " #   Column               Non-Null Count  Dtype  \n",
      "---  ------               --------------  -----  \n",
      " 0   Year                 5874 non-null   int64  \n",
      " 1   Kilometers_Driven    5874 non-null   int64  \n",
      " 2   Owner_Type           5874 non-null   int64  \n",
      " 3   Seats                5874 non-null   int32  \n",
      " 4   Price                5874 non-null   float64\n",
      " 5   Mileage(km/kg)       5874 non-null   float64\n",
      " 6   Engine(CC)           5874 non-null   float64\n",
      " 7   Power(bhp)           5874 non-null   object \n",
      " 8   Location_Bangalore   5874 non-null   uint8  \n",
      " 9   Location_Chennai     5874 non-null   uint8  \n",
      " 10  Location_Coimbatore  5874 non-null   uint8  \n",
      " 11  Location_Delhi       5874 non-null   uint8  \n",
      " 12  Location_Hyderabad   5874 non-null   uint8  \n",
      " 13  Location_Jaipur      5874 non-null   uint8  \n",
      " 14  Location_Kochi       5874 non-null   uint8  \n",
      " 15  Location_Kolkata     5874 non-null   uint8  \n",
      " 16  Location_Mumbai      5874 non-null   uint8  \n",
      " 17  Location_Pune        5874 non-null   uint8  \n",
      " 18  Fuel_Type_Diesel     5874 non-null   uint8  \n",
      " 19  Fuel_Type_LPG        5874 non-null   uint8  \n",
      " 20  Fuel_Type_Petrol     5874 non-null   uint8  \n",
      " 21  Transmission_Manual  5874 non-null   uint8  \n",
      "dtypes: float64(3), int32(1), int64(3), object(1), uint8(14)\n",
      "memory usage: 630.4+ KB\n"
     ]
    }
   ],
   "source": [
    "final_train.info()"
   ]
  },
  {
   "cell_type": "code",
   "execution_count": 113,
   "metadata": {},
   "outputs": [
    {
     "data": {
      "text/plain": [
       "(5874, 22)"
      ]
     },
     "execution_count": 113,
     "metadata": {},
     "output_type": "execute_result"
    }
   ],
   "source": [
    "final_train.shape"
   ]
  },
  {
   "cell_type": "code",
   "execution_count": 119,
   "metadata": {},
   "outputs": [
    {
     "name": "stdout",
     "output_type": "stream",
     "text": [
      "<class 'pandas.core.frame.DataFrame'>\n",
      "Int64Index: 1202 entries, 0 to 1201\n",
      "Data columns (total 22 columns):\n",
      " #   Column               Non-Null Count  Dtype  \n",
      "---  ------               --------------  -----  \n",
      " 0   Year                 1202 non-null   int64  \n",
      " 1   Kilometers_Driven    1202 non-null   int64  \n",
      " 2   Owner_Type           1202 non-null   int64  \n",
      " 3   Seats                1202 non-null   int32  \n",
      " 4   Price                0 non-null      float64\n",
      " 5   Mileage(km/kg)       1202 non-null   float64\n",
      " 6   Engine(CC)           1202 non-null   float64\n",
      " 7   Power(bhp)           1202 non-null   object \n",
      " 8   Location_Bangalore   1202 non-null   uint8  \n",
      " 9   Location_Chennai     1202 non-null   uint8  \n",
      " 10  Location_Coimbatore  1202 non-null   uint8  \n",
      " 11  Location_Delhi       1202 non-null   uint8  \n",
      " 12  Location_Hyderabad   1202 non-null   uint8  \n",
      " 13  Location_Jaipur      1202 non-null   uint8  \n",
      " 14  Location_Kochi       1202 non-null   uint8  \n",
      " 15  Location_Kolkata     1202 non-null   uint8  \n",
      " 16  Location_Mumbai      1202 non-null   uint8  \n",
      " 17  Location_Pune        1202 non-null   uint8  \n",
      " 18  Fuel_Type_Diesel     1202 non-null   uint8  \n",
      " 19  Fuel_Type_LPG        1202 non-null   uint8  \n",
      " 20  Fuel_Type_Petrol     1202 non-null   uint8  \n",
      " 21  Transmission_Manual  1202 non-null   uint8  \n",
      "dtypes: float64(3), int32(1), int64(3), object(1), uint8(14)\n",
      "memory usage: 96.3+ KB\n"
     ]
    }
   ],
   "source": [
    "final_test.info()"
   ]
  },
  {
   "cell_type": "code",
   "execution_count": 114,
   "metadata": {},
   "outputs": [],
   "source": [
    "final_test.drop('New_Price',axis = 1, inplace = True)"
   ]
  },
  {
   "cell_type": "code",
   "execution_count": 118,
   "metadata": {},
   "outputs": [],
   "source": [
    "final_test.drop('Company',axis = 1, inplace = True)"
   ]
  },
  {
   "cell_type": "code",
   "execution_count": 121,
   "metadata": {},
   "outputs": [],
   "source": [
    "final_test.drop('Price',axis = 1, inplace = True)"
   ]
  },
  {
   "cell_type": "code",
   "execution_count": 122,
   "metadata": {},
   "outputs": [
    {
     "data": {
      "text/plain": [
       "(1202, 21)"
      ]
     },
     "execution_count": 122,
     "metadata": {},
     "output_type": "execute_result"
    }
   ],
   "source": [
    "final_test.shape"
   ]
  },
  {
   "cell_type": "code",
   "execution_count": 117,
   "metadata": {},
   "outputs": [
    {
     "name": "stdout",
     "output_type": "stream",
     "text": [
      "<class 'pandas.core.frame.DataFrame'>\n",
      "Int64Index: 5874 entries, 0 to 5873\n",
      "Data columns (total 22 columns):\n",
      " #   Column               Non-Null Count  Dtype  \n",
      "---  ------               --------------  -----  \n",
      " 0   Year                 5874 non-null   int64  \n",
      " 1   Kilometers_Driven    5874 non-null   int64  \n",
      " 2   Owner_Type           5874 non-null   int64  \n",
      " 3   Seats                5874 non-null   int32  \n",
      " 4   Price                5874 non-null   float64\n",
      " 5   Mileage(km/kg)       5874 non-null   float64\n",
      " 6   Engine(CC)           5874 non-null   float64\n",
      " 7   Power(bhp)           5874 non-null   object \n",
      " 8   Location_Bangalore   5874 non-null   uint8  \n",
      " 9   Location_Chennai     5874 non-null   uint8  \n",
      " 10  Location_Coimbatore  5874 non-null   uint8  \n",
      " 11  Location_Delhi       5874 non-null   uint8  \n",
      " 12  Location_Hyderabad   5874 non-null   uint8  \n",
      " 13  Location_Jaipur      5874 non-null   uint8  \n",
      " 14  Location_Kochi       5874 non-null   uint8  \n",
      " 15  Location_Kolkata     5874 non-null   uint8  \n",
      " 16  Location_Mumbai      5874 non-null   uint8  \n",
      " 17  Location_Pune        5874 non-null   uint8  \n",
      " 18  Fuel_Type_Diesel     5874 non-null   uint8  \n",
      " 19  Fuel_Type_LPG        5874 non-null   uint8  \n",
      " 20  Fuel_Type_Petrol     5874 non-null   uint8  \n",
      " 21  Transmission_Manual  5874 non-null   uint8  \n",
      "dtypes: float64(3), int32(1), int64(3), object(1), uint8(14)\n",
      "memory usage: 630.4+ KB\n"
     ]
    }
   ],
   "source": [
    "final_train.info()"
   ]
  },
  {
   "cell_type": "code",
   "execution_count": 123,
   "metadata": {},
   "outputs": [],
   "source": [
    "X = final_train.loc[:,['Year', 'Kilometers_Driven', 'Owner_Type', 'Seats',\n",
    "       'Mileage(km/kg)', 'Engine(CC)', 'Power(bhp)', \n",
    "       'Location_Bangalore', 'Location_Chennai', 'Location_Coimbatore',\n",
    "       'Location_Delhi', 'Location_Hyderabad', 'Location_Jaipur',\n",
    "       'Location_Kochi', 'Location_Kolkata', 'Location_Mumbai',\n",
    "       'Location_Pune', 'Fuel_Type_Diesel', 'Fuel_Type_LPG',\n",
    "       'Fuel_Type_Petrol', 'Transmission_Manual']]"
   ]
  },
  {
   "cell_type": "code",
   "execution_count": 124,
   "metadata": {},
   "outputs": [
    {
     "data": {
      "text/html": [
       "<div>\n",
       "<style scoped>\n",
       "    .dataframe tbody tr th:only-of-type {\n",
       "        vertical-align: middle;\n",
       "    }\n",
       "\n",
       "    .dataframe tbody tr th {\n",
       "        vertical-align: top;\n",
       "    }\n",
       "\n",
       "    .dataframe thead th {\n",
       "        text-align: right;\n",
       "    }\n",
       "</style>\n",
       "<table border=\"1\" class=\"dataframe\">\n",
       "  <thead>\n",
       "    <tr style=\"text-align: right;\">\n",
       "      <th></th>\n",
       "      <th>Price</th>\n",
       "    </tr>\n",
       "  </thead>\n",
       "  <tbody>\n",
       "    <tr>\n",
       "      <th>0</th>\n",
       "      <td>1.75</td>\n",
       "    </tr>\n",
       "    <tr>\n",
       "      <th>1</th>\n",
       "      <td>12.50</td>\n",
       "    </tr>\n",
       "    <tr>\n",
       "      <th>2</th>\n",
       "      <td>4.50</td>\n",
       "    </tr>\n",
       "    <tr>\n",
       "      <th>3</th>\n",
       "      <td>6.00</td>\n",
       "    </tr>\n",
       "    <tr>\n",
       "      <th>4</th>\n",
       "      <td>17.74</td>\n",
       "    </tr>\n",
       "  </tbody>\n",
       "</table>\n",
       "</div>"
      ],
      "text/plain": [
       "   Price\n",
       "0   1.75\n",
       "1  12.50\n",
       "2   4.50\n",
       "3   6.00\n",
       "4  17.74"
      ]
     },
     "execution_count": 124,
     "metadata": {},
     "output_type": "execute_result"
    }
   ],
   "source": [
    "y = final_train.loc[:,['Price']]\n",
    "y.head()"
   ]
  },
  {
   "cell_type": "code",
   "execution_count": 125,
   "metadata": {},
   "outputs": [
    {
     "name": "stderr",
     "output_type": "stream",
     "text": [
      "<ipython-input-125-914d803b91a8>:3: DataConversionWarning: A column-vector y was passed when a 1d array was expected. Please change the shape of y to (n_samples,), for example using ravel().\n",
      "  selection.fit(X,y)\n"
     ]
    },
    {
     "data": {
      "text/plain": [
       "ExtraTreesRegressor()"
      ]
     },
     "execution_count": 125,
     "metadata": {},
     "output_type": "execute_result"
    }
   ],
   "source": [
    "from sklearn.ensemble import ExtraTreesRegressor\n",
    "selection= ExtraTreesRegressor()\n",
    "selection.fit(X,y)"
   ]
  },
  {
   "cell_type": "code",
   "execution_count": 126,
   "metadata": {},
   "outputs": [],
   "source": [
    "from sklearn.model_selection import train_test_split\n",
    "X_train, X_test, y_train, y_test = train_test_split(X, y, test_size = 0.2, random_state = 25)"
   ]
  },
  {
   "cell_type": "code",
   "execution_count": 127,
   "metadata": {},
   "outputs": [
    {
     "name": "stdout",
     "output_type": "stream",
     "text": [
      "Accuracy on Traing set:  0.7257409016590597\n",
      "Accuracy on Testing set:  0.6450553556561864\n"
     ]
    }
   ],
   "source": [
    "from sklearn.linear_model import LinearRegression\n",
    "linear_reg = LinearRegression()\n",
    "linear_reg.fit(X_train, y_train)\n",
    "y_pred= linear_reg.predict(X_test)\n",
    "print(\"Accuracy on Traing set: \",linear_reg.score(X_train,y_train))\n",
    "print(\"Accuracy on Testing set: \",linear_reg.score(X_test,y_test))"
   ]
  },
  {
   "cell_type": "code",
   "execution_count": 130,
   "metadata": {},
   "outputs": [
    {
     "name": "stderr",
     "output_type": "stream",
     "text": [
      "<ipython-input-130-7b4cc8b22f67>:3: DataConversionWarning: A column-vector y was passed when a 1d array was expected. Please change the shape of y to (n_samples,), for example using ravel().\n",
      "  rf_reg.fit(X_train, y_train)\n"
     ]
    },
    {
     "name": "stdout",
     "output_type": "stream",
     "text": [
      "Accuracy on Traning set:  0.9865079097033371\n",
      "Accuracy on Testing set:  0.8226356293561711\n"
     ]
    }
   ],
   "source": [
    "from sklearn.ensemble import RandomForestRegressor\n",
    "rf_reg = RandomForestRegressor()\n",
    "rf_reg.fit(X_train, y_train)\n",
    "y_pred= rf_reg.predict(X_test)\n",
    "print(\"Accuracy on Traning set: \",rf_reg.score(X_train,y_train))\n",
    "print(\"Accuracy on Testing set: \",rf_reg.score(X_test,y_test))"
   ]
  },
  {
   "cell_type": "code",
   "execution_count": 129,
   "metadata": {},
   "outputs": [
    {
     "name": "stdout",
     "output_type": "stream",
     "text": [
      "\t\tError Table\n",
      "Mean Absolute Error      :  1.7559731985815605\n",
      "Mean Squared  Error      :  27.608700353080792\n",
      "Root Mean Squared  Error :  5.254398191332742\n",
      "R Squared Error          :  0.8207450632060893\n"
     ]
    }
   ],
   "source": [
    "from sklearn import metrics\n",
    "from sklearn.metrics import mean_squared_error, mean_absolute_error\n",
    "\n",
    "print(\"\\t\\tError Table\")\n",
    "print('Mean Absolute Error      : ', metrics.mean_absolute_error(y_test, y_pred))\n",
    "print('Mean Squared  Error      : ', metrics.mean_squared_error(y_test, y_pred))\n",
    "print('Root Mean Squared  Error : ', np.sqrt(metrics.mean_squared_error(y_test, y_pred)))\n",
    "print('R Squared Error          : ', metrics.r2_score(y_test, y_pred))"
   ]
  },
  {
   "cell_type": "code",
   "execution_count": null,
   "metadata": {},
   "outputs": [],
   "source": []
  }
 ],
 "metadata": {
  "kernelspec": {
   "display_name": "Python 3",
   "language": "python",
   "name": "python3"
  },
  "language_info": {
   "codemirror_mode": {
    "name": "ipython",
    "version": 3
   },
   "file_extension": ".py",
   "mimetype": "text/x-python",
   "name": "python",
   "nbconvert_exporter": "python",
   "pygments_lexer": "ipython3",
   "version": "3.8.5"
  }
 },
 "nbformat": 4,
 "nbformat_minor": 4
}
